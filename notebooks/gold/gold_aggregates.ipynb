{
 "cells": [
  {
   "cell_type": "code",
   "execution_count": 0,
   "metadata": {
    "application/vnd.databricks.v1+cell": {
     "cellMetadata": {},
     "inputWidgets": {},
     "nuid": "0f2bdd37-4fdb-45bd-bc65-3329561bfa98",
     "showTitle": false,
     "tableResultSettingsMap": {},
     "title": ""
    }
   },
   "outputs": [],
   "source": [
    "-- ===== 1) ADD CLAIM-LEVEL DENIAL FLAGS =====\n",
    "\n",
    "USE CATALOG claims360_dev;\n",
    "\n",
    "-- Claim-level denial signals from 835 detail + map\n",
    "WITH denial_rollup AS (\n",
    "  SELECT\n",
    "    e.claim_id,\n",
    "    MAX(CASE WHEN m.is_denial THEN 1 ELSE 0 END) AS has_denial_835,\n",
    "    MAX_BY(m.reason_category, cnt)               AS dominant_denial_category\n",
    "  FROM (\n",
    "    SELECT claim_id, reason_code, COUNT(*) AS cnt\n",
    "    FROM silver.payments_835_events\n",
    "    WHERE reason_code IS NOT NULL\n",
    "    GROUP BY claim_id, reason_code\n",
    "  ) rc\n",
    "  LEFT JOIN silver.dim_denial_reason_map m\n",
    "    ON m.code_type = 'CARC' AND m.code = rc.reason_code\n",
    "  LEFT JOIN silver.payments_835_events e\n",
    "    ON e.claim_id = rc.claim_id AND e.reason_code = rc.reason_code\n",
    "  GROUP BY e.claim_id\n",
    "),\n",
    "_277_signal AS (\n",
    "  SELECT\n",
    "    claim_id,\n",
    "    MAX(last_277_status_code) AS last_277_status_code\n",
    "  FROM silver_curated.claims_current\n",
    "  GROUP BY claim_id\n",
    ")\n",
    "CREATE OR REPLACE TABLE gold.fact_claim AS\n",
    "SELECT\n",
    "  c.claim_id,\n",
    "  c.payer_id,\n",
    "  c.payer_name,\n",
    "  c.payer_type,\n",
    "  c.patient_id,\n",
    "  c.submission_date,\n",
    "  c.total_charges                                 AS billed_amount,\n",
    "  COALESCE(c.net_paid_to_date, 0)                 AS net_paid_to_date,\n",
    "  (c.total_charges - COALESCE(c.net_paid_to_date,0)) AS current_balance,\n",
    "  c.expected_amount,\n",
    "  c.last_277_status_code,\n",
    "  c.last_277_event_ts,\n",
    "  c.last_835_event_ts,\n",
    "  c.payment_event_count,\n",
    "  COALESCE(d.has_denial_835, 0)                   AS has_denial_835,\n",
    "  CASE\n",
    "    WHEN COALESCE(d.has_denial_835,0) = 1\n",
    "         OR COALESCE(c.last_277_status_code,'') IN ('A7','A3','R3')\n",
    "      THEN 1 ELSE 0\n",
    "  END                                             AS has_denial_any,\n",
    "  d.dominant_denial_category\n",
    "FROM silver_curated.claims_current c\n",
    "LEFT JOIN denial_rollup d ON d.claim_id = c.claim_id;"
   ]
  },
  {
   "cell_type": "code",
   "execution_count": 0,
   "metadata": {
    "application/vnd.databricks.v1+cell": {
     "cellMetadata": {},
     "inputWidgets": {},
     "nuid": "911188e0-a216-4edf-b767-09470dca1ba1",
     "showTitle": false,
     "tableResultSettingsMap": {},
     "title": ""
    }
   },
   "outputs": [],
   "source": [
    "-- ===== 2) CREATE FACTS TABLE FOR DENIAL EVENTS =====\n",
    "\n",
    "CREATE OR REPLACE TABLE gold.fact_denial_event AS\n",
    "SELECT\n",
    "  e.claim_id,\n",
    "  e.payment_ts                AS event_ts,\n",
    "  e.payer_id,\n",
    "  e.remit_id,\n",
    "  e.check_or_eft_trace,\n",
    "  e.payment_amount,\n",
    "  e.adjustment_amount,\n",
    "  e.net_effect,\n",
    "  e.reason_code,\n",
    "  COALESCE(m.reason_category, 'Unmapped') AS reason_category\n",
    "FROM silver.payments_835_events e\n",
    "LEFT JOIN silver.dim_denial_reason_map m\n",
    "  ON m.code_type = 'CARC' AND m.code = e.reason_code\n",
    "WHERE m.is_denial = TRUE;"
   ]
  },
  {
   "cell_type": "code",
   "execution_count": 0,
   "metadata": {
    "application/vnd.databricks.v1+cell": {
     "cellMetadata": {},
     "inputWidgets": {},
     "nuid": "a9679022-2256-49e5-9fa7-ad582932928a",
     "showTitle": false,
     "tableResultSettingsMap": {},
     "title": ""
    }
   },
   "outputs": [],
   "source": [
    "-- ===== 3) DAILY SNAPSHOT FOR TRENDING / AGING =====\n",
    "\n",
    "CREATE OR REPLACE TABLE gold.fact_claim_day AS\n",
    "SELECT\n",
    "  current_date()                         AS as_of_date,\n",
    "  c.claim_id,\n",
    "  c.payer_id,\n",
    "  c.payer_name,\n",
    "  c.billed_amount,\n",
    "  c.net_paid_to_date,\n",
    "  c.current_balance,\n",
    "  c.has_denial_any,\n",
    "  CASE\n",
    "    WHEN c.current_balance <= 0 THEN 'Closed'\n",
    "    WHEN DATEDIFF(current_date(), c.submission_date) <= 30  THEN '0–30'\n",
    "    WHEN DATEDIFF(current_date(), c.submission_date) <= 60  THEN '31–60'\n",
    "    WHEN DATEDIFF(current_date(), c.submission_date) <= 90  THEN '61–90'\n",
    "    WHEN DATEDIFF(current_date(), c.submission_date) <= 120 THEN '91–120'\n",
    "    ELSE '120+'\n",
    "  END AS aging_bucket\n",
    "FROM gold.fact_claim c;"
   ]
  },
  {
   "cell_type": "code",
   "execution_count": 0,
   "metadata": {
    "application/vnd.databricks.v1+cell": {
     "cellMetadata": {},
     "inputWidgets": {},
     "nuid": "0cec93d7-52aa-43a7-b921-3e2140dab2bf",
     "showTitle": false,
     "tableResultSettingsMap": {},
     "title": ""
    }
   },
   "outputs": [],
   "source": [
    "-- ===== ACCEPTANCE CHECKS - DELETE LATER =====\n",
    "\n",
    "-- No duplicates at claim grain\n",
    "SELECT claim_id, COUNT(*) c FROM gold.fact_claim GROUP BY claim_id HAVING c>1;\n",
    "\n",
    "-- Reasonable ranges\n",
    "SELECT\n",
    "  SUM(CASE WHEN billed_amount < 0 THEN 1 END) AS neg_billed,\n",
    "  SUM(CASE WHEN net_paid_to_date < 0 THEN 1 END) AS neg_net_paid\n",
    "FROM gold.fact_claim;\n",
    "\n",
    "-- Denial mapping coverage\n",
    "SELECT reason_code, COUNT(*) \n",
    "FROM silver.payments_835_events \n",
    "WHERE reason_code IS NOT NULL\n",
    "GROUP BY reason_code\n",
    "ORDER BY COUNT(*) DESC;"
   ]
  }
 ],
 "metadata": {
  "application/vnd.databricks.v1+notebook": {
   "computePreferences": null,
   "dashboards": [],
   "environmentMetadata": {
    "base_environment": "",
    "environment_version": "3"
   },
   "inputWidgetPreferences": null,
   "language": "sql",
   "notebookMetadata": {
    "pythonIndentUnit": 4
   },
   "notebookName": "gold_aggregates",
   "widgets": {}
  },
  "language_info": {
   "name": "sql"
  }
 },
 "nbformat": 4,
 "nbformat_minor": 0
}
