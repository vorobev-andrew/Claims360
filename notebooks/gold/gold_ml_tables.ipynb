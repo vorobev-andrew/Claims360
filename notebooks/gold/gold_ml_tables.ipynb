{
 "cells": [
  {
   "cell_type": "code",
   "execution_count": 0,
   "metadata": {
    "application/vnd.databricks.v1+cell": {
     "cellMetadata": {},
     "inputWidgets": {},
     "nuid": "8a4fd9ae-4229-48c9-b8b4-e7f6b02751d2",
     "showTitle": false,
     "tableResultSettingsMap": {},
     "title": ""
    }
   },
   "outputs": [],
   "source": [
    "-- ===== LABELS (BINARY) =====\n",
    "CREATE OR REPLACE TABLE gold.ml_labels AS\n",
    "SELECT\n",
    "  fc.claim_id,\n",
    "  CASE\n",
    "    WHEN fc.has_denial_any = 1 THEN 1\n",
    "    WHEN fc.current_balance <= 0 AND fc.has_denial_any = 0 THEN 0\n",
    "    ELSE NULL\n",
    "  END AS label\n",
    "FROM gold.fact_claim fc;\n",
    "\n",
    "DELETE FROM gold.ml_labels WHERE label IS NULL;"
   ]
  },
  {
   "cell_type": "code",
   "execution_count": 0,
   "metadata": {
    "application/vnd.databricks.v1+cell": {
     "cellMetadata": {},
     "inputWidgets": {},
     "nuid": "7db82e2a-ab71-4b61-9b4d-680e5bed6b6e",
     "showTitle": false,
     "tableResultSettingsMap": {},
     "title": ""
    }
   },
   "outputs": [],
   "source": [
    "-- ===== FEATURES (NO LEAKAGE, AT SUBMISSION) =====\n",
    "\n",
    "-- Crude historical payer behavior on current sample\n",
    "CREATE OR REPLACE TEMP VIEW _payer_hist AS\n",
    "SELECT payer_id, AVG(CAST(has_denial_any AS DOUBLE)) AS payer_denial_rate_overall\n",
    "FROM gold.fact_claim\n",
    "GROUP BY payer_id;\n",
    "\n",
    "CREATE OR REPLACE TABLE gold.ml_features AS\n",
    "SELECT\n",
    "  c.claim_id,\n",
    "  c.payer_id,\n",
    "  c.payer_name,\n",
    "  c.payer_type,\n",
    "  c.submission_date,\n",
    "  c.weekday_submitted,\n",
    "  c.is_weekend_submission,\n",
    "  c.total_charges,\n",
    "  c.expected_amount,\n",
    "  COALESCE(c.ack_event_count,0)        AS ack_event_count,\n",
    "  COALESCE(c.last_277_status_code,'')  AS last_277_status_code,\n",
    "  COALESCE(h.payer_denial_rate_overall,0.0) AS payer_denial_rate_overall\n",
    "FROM silver_curated.claims_current c\n",
    "LEFT JOIN _payer_hist h USING (payer_id);\n",
    "\n",
    "CREATE OR REPLACE VIEW gold.ml_training AS\n",
    "SELECT f.*, l.label\n",
    "FROM gold.ml_features f\n",
    "JOIN gold.ml_labels l USING (claim_id);\n",
    "\n",
    "-- Train XGBoost/LightGBM, log to MLflow, batch-score into gold.scored_claims (claim_id, score), then:\n",
    "\n",
    "CREATE OR REPLACE VIEW gold.v_claims_current_scored AS\n",
    "SELECT c.*, s.score AS denial_risk_score\n",
    "FROM silver_curated.claims_current c\n",
    "LEFT JOIN gold.scored_claims s USING (claim_id);"
   ]
  }
 ],
 "metadata": {
  "application/vnd.databricks.v1+notebook": {
   "computePreferences": null,
   "dashboards": [],
   "environmentMetadata": {
    "base_environment": "",
    "environment_version": "3"
   },
   "inputWidgetPreferences": null,
   "language": "sql",
   "notebookMetadata": {
    "pythonIndentUnit": 4
   },
   "notebookName": "gold_ml_tables",
   "widgets": {}
  },
  "language_info": {
   "name": "sql"
  }
 },
 "nbformat": 4,
 "nbformat_minor": 0
}
