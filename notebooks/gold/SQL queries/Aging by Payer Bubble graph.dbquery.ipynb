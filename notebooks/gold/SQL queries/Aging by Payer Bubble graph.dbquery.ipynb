{
 "cells": [
  {
   "cell_type": "code",
   "execution_count": 0,
   "metadata": {
    "application/vnd.databricks.v1+cell": {
     "cellMetadata": {
      "byteLimit": 10485760,
      "rowLimit": 1000
     },
     "inputWidgets": {},
     "nuid": "af2ad987-a59c-4f21-973b-30f192c097d8",
     "showTitle": false,
     "tableResultSettingsMap": {},
     "title": ""
    }
   },
   "outputs": [
    {
     "output_type": "display_data",
     "data": {
      "text/plain": [
       "Databricks visualization. Run in Databricks to view."
      ]
     },
     "metadata": {
      "application/vnd.databricks.v1.subcommand+json": {
       "baseErrorDetails": null,
       "bindings": {},
       "collapsed": false,
       "command": "%sql WITH q AS (WITH pivot AS (\n  SELECT payer_name,\n         SUM(ar_amount) AS ar_total,\n         SUM(CASE WHEN aging_bucket='120+' THEN ar_amount END) AS ar_120p,\n         SUM(claim_count) AS claims\n  FROM claims360_dev.gold.v_aging_buckets\n  WHERE aging_bucket <> 'Closed'\n  GROUP BY payer_name\n)\nSELECT payer_name, ar_total, ar_120p, claims FROM pivot) SELECT `ar_total`,`ar_120p`,`payer_name`,`claims` FROM q",
       "commandTitle": "Payers with 120+ Aged Claims",
       "commandType": "auto",
       "commandVersion": 0,
       "commentThread": [],
       "commentsVisible": false,
       "contentSha256Hex": null,
       "customPlotOptions": {
        "redashChart": [
         {
          "key": "type",
          "value": "CHART"
         },
         {
          "key": "options",
          "value": {
           "alignYAxesAtZero": true,
           "coefficient": 1,
           "columnConfigurationMap": {
            "series": {
             "column": "payer_name",
             "id": "column_6e8d97904501"
            },
            "size": {
             "column": "claims",
             "id": "column_6e8d97904500"
            },
            "x": {
             "column": "ar_total",
             "id": "column_6e8d97904497"
            },
            "y": [
             {
              "column": "ar_120p",
              "id": "column_6e8d97904499"
             }
            ]
           },
           "condensed": true,
           "dateTimeFormat": "YYYY-MM-DD HH:mm",
           "direction": {
            "type": "counterclockwise"
           },
           "error_y": {
            "type": "data",
            "visible": true
           },
           "globalSeriesType": "bubble",
           "legend": {
            "traceorder": "normal"
           },
           "missingValuesAsZero": true,
           "numberFormat": "0,0.[00000]",
           "percentFormat": "0[.]00%",
           "series": {
            "error_y": {
             "type": "data",
             "visible": true
            },
            "stacking": null
           },
           "seriesOptions": {
            "ar_120p": {
             "type": "bubble",
             "yAxis": 0
            }
           },
           "showDataLabels": false,
           "sizemode": "diameter",
           "sortX": true,
           "sortY": true,
           "swappedAxes": false,
           "textFormat": "",
           "useAggregationsUi": true,
           "valuesOptions": {},
           "version": 2,
           "withRowNumber": true,
           "xAxis": {
            "labels": {
             "enabled": true
            },
            "type": "-"
           },
           "yAxis": [
            {
             "type": "-"
            },
            {
             "opposite": true,
             "type": "-"
            }
           ]
          }
         }
        ]
       },
       "datasetPreviewNameToCmdIdMap": {},
       "diffDeletes": [],
       "diffInserts": [],
       "displayType": "redashChart",
       "error": null,
       "errorDetails": null,
       "errorSummary": null,
       "errorTraceType": null,
       "finishTime": 0,
       "globalVars": {},
       "guid": "",
       "height": "auto",
       "hideCommandCode": false,
       "hideCommandResult": false,
       "iPythonMetadata": null,
       "inputWidgets": {},
       "isLockedInExamMode": false,
       "latestAssumeRoleInfo": null,
       "latestUser": "a user",
       "latestUserId": null,
       "listResultMetadata": null,
       "metadata": {},
       "nuid": "f307a619-1399-49a0-a860-53d2d9bfdf35",
       "origId": 0,
       "parentHierarchy": [],
       "pivotAggregation": null,
       "pivotColumns": null,
       "position": 2.0,
       "resultDbfsErrorMessage": null,
       "resultDbfsStatus": "INLINED_IN_TREE",
       "results": null,
       "showCommandTitle": false,
       "startTime": 0,
       "state": "input",
       "streamStates": {},
       "subcommandOptions": {
        "queryPlan": {
         "selects": [
          {
           "column": "ar_total",
           "type": "column"
          },
          {
           "column": "ar_120p",
           "type": "column"
          },
          {
           "column": "payer_name",
           "type": "column"
          },
          {
           "column": "claims",
           "type": "column"
          }
         ]
        },
        "redashId": "aa432e89-b526-48ef-97f4-ab15e6dc738c",
        "redashLastUpdated": 1758680661000
       },
       "submitTime": 0,
       "subtype": "tableResultSubCmd.visualization",
       "tableResultIndex": 0,
       "tableResultSettingsMap": {},
       "useConsistentColors": false,
       "version": "CommandV1",
       "width": "auto",
       "workflows": null,
       "xColumns": null,
       "yColumns": null
      }
     },
     "output_type": "display_data"
    }
   ],
   "source": [
    "WITH pivot AS (\n",
    "  SELECT payer_name,\n",
    "         SUM(ar_amount) AS ar_total,\n",
    "         SUM(CASE WHEN aging_bucket='120+' THEN ar_amount END) AS ar_120p,\n",
    "         SUM(claim_count) AS claims\n",
    "  FROM claims360_dev.gold.v_aging_buckets\n",
    "  WHERE aging_bucket <> 'Closed'\n",
    "  GROUP BY payer_name\n",
    ")\n",
    "SELECT payer_name, ar_total, ar_120p, claims FROM pivot;\n"
   ]
  }
 ],
 "metadata": {
  "application/vnd.databricks.v1+notebook": {
   "computePreferences": null,
   "dashboards": [],
   "environmentMetadata": null,
   "inputWidgetPreferences": null,
   "language": "sql",
   "notebookMetadata": {
    "pythonIndentUnit": 4,
    "sqlQueryOptions": {
     "applyAutoLimit": true,
     "catalog": "claims360dbx",
     "schema": "default"
    }
   },
   "notebookName": "Aging by Payer Bubble graph.dbquery.ipynb",
   "widgets": {}
  },
  "language_info": {
   "name": "sql"
  }
 },
 "nbformat": 4,
 "nbformat_minor": 0
}
