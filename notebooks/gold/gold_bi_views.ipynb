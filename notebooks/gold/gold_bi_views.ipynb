{
 "cells": [
  {
   "cell_type": "code",
   "execution_count": 0,
   "metadata": {
    "application/vnd.databricks.v1+cell": {
     "cellMetadata": {},
     "inputWidgets": {},
     "nuid": "44fa2e64-6039-4581-9965-24124c49f9c3",
     "showTitle": false,
     "tableResultSettingsMap": {},
     "title": ""
    }
   },
   "outputs": [],
   "source": [
    "-- ===== MONTHLY DENIAL RATE BY PAYER =====\n",
    "\n",
    "CREATE OR REPLACE VIEW gold.v_monthly_denial_rate AS\n",
    "SELECT\n",
    "  date_trunc('month', submission_date)  AS month,\n",
    "  payer_name,\n",
    "  COUNT(*)                              AS submitted_claims,\n",
    "  SUM(has_denial_any)                   AS claims_with_denial,\n",
    "  SUM(CASE WHEN current_balance <= 0 THEN 1 ELSE 0 END) AS paid_closed_claims,\n",
    "  SUM(has_denial_any) / COUNT(*)        AS denial_rate\n",
    "FROM gold.fact_claim\n",
    "GROUP BY 1, 2;"
   ]
  },
  {
   "cell_type": "code",
   "execution_count": 0,
   "metadata": {
    "application/vnd.databricks.v1+cell": {
     "cellMetadata": {},
     "inputWidgets": {},
     "nuid": "2dc0b464-1284-4101-8145-3b9e23cda355",
     "showTitle": false,
     "tableResultSettingsMap": {},
     "title": ""
    }
   },
   "outputs": [],
   "source": [
    "-- ===== OPEN AR BY PAYER =====\n",
    "\n",
    "CREATE OR REPLACE VIEW gold.v_aging_buckets AS\n",
    "SELECT\n",
    "  payer_name,\n",
    "  CASE\n",
    "    WHEN current_balance <= 0 THEN 'Closed'\n",
    "    WHEN DATEDIFF(current_date(), submission_date) <= 30  THEN '0–30'\n",
    "    WHEN DATEDIFF(current_date(), submission_date) <= 60  THEN '31–60'\n",
    "    WHEN DATEDIFF(current_date(), submission_date) <= 90  THEN '61–90'\n",
    "    WHEN DATEDIFF(current_date(), submission_date) <= 120 THEN '91–120'\n",
    "    ELSE '120+'\n",
    "  END AS aging_bucket,\n",
    "  SUM(current_balance) AS ar_amount,\n",
    "  COUNT(*)             AS claim_count\n",
    "FROM gold.fact_claim\n",
    "GROUP BY 1, 2;"
   ]
  },
  {
   "cell_type": "code",
   "execution_count": 0,
   "metadata": {
    "application/vnd.databricks.v1+cell": {
     "cellMetadata": {},
     "inputWidgets": {},
     "nuid": "3dc3cc0e-687e-4ac7-9825-9b5b8a3c8bce",
     "showTitle": false,
     "tableResultSettingsMap": {},
     "title": ""
    }
   },
   "outputs": [],
   "source": [
    "-- ===== TOP DENIAL CATEGORIES ($ IMPACT PROXY) =====\n",
    "\n",
    "CREATE OR REPLACE VIEW gold.v_top_denial_categories AS\n",
    "SELECT\n",
    "  payer_name,\n",
    "  COALESCE(dominant_denial_category,'Unmapped') AS denial_category,\n",
    "  COUNT(*)                                      AS claims,\n",
    "  SUM(billed_amount - net_paid_to_date)         AS gross_delta_amount\n",
    "FROM gold.fact_claim\n",
    "WHERE has_denial_any = 1\n",
    "GROUP BY 1, 2\n",
    "ORDER BY gross_delta_amount DESC;"
   ]
  },
  {
   "cell_type": "code",
   "execution_count": 0,
   "metadata": {
    "application/vnd.databricks.v1+cell": {
     "cellMetadata": {},
     "inputWidgets": {},
     "nuid": "9c4cd73b-39a3-4ad2-b448-e66a843dfbfc",
     "showTitle": false,
     "tableResultSettingsMap": {},
     "title": ""
    }
   },
   "outputs": [],
   "source": [
    "-- ===== FIRST-PASS YIELD =====\n",
    "\n",
    "CREATE OR REPLACE VIEW gold.v_first_pass_yield AS\n",
    "SELECT\n",
    "  payer_name,\n",
    "  SUM(CASE WHEN current_balance <= 0 AND has_denial_any = 0 THEN 1 ELSE 0 END) AS fpy_claims,\n",
    "  COUNT(*) AS submitted_claims,\n",
    "  SUM(CASE WHEN current_balance <= 0 AND has_denial_any = 0 THEN 1 ELSE 0 END) / COUNT(*) AS fpy_rate\n",
    "FROM gold.fact_claim\n",
    "GROUP BY 1;"
   ]
  }
 ],
 "metadata": {
  "application/vnd.databricks.v1+notebook": {
   "computePreferences": null,
   "dashboards": [],
   "environmentMetadata": {
    "base_environment": "",
    "environment_version": "3"
   },
   "inputWidgetPreferences": null,
   "language": "sql",
   "notebookMetadata": {
    "pythonIndentUnit": 4
   },
   "notebookName": "gold_bi_views",
   "widgets": {}
  },
  "language_info": {
   "name": "sql"
  }
 },
 "nbformat": 4,
 "nbformat_minor": 0
}
