{
 "cells": [
  {
   "cell_type": "code",
   "execution_count": 0,
   "metadata": {
    "application/vnd.databricks.v1+cell": {
     "cellMetadata": {
      "byteLimit": 2048000,
      "rowLimit": 10000
     },
     "inputWidgets": {},
     "nuid": "44fa2e64-6039-4581-9965-24124c49f9c3",
     "showTitle": false,
     "tableResultSettingsMap": {},
     "title": ""
    }
   },
   "outputs": [],
   "source": [
    "USE CATALOG claims360_dev;\n",
    "\n",
    "-- ===== DENIAL RATE BY PAYER BY MONTH =====\n",
    "\n",
    "CREATE OR REPLACE VIEW gold.v_monthly_denial_rate AS\n",
    "SELECT\n",
    "  date_trunc('month', submission_date) AS month,\n",
    "  payer_name,\n",
    "  COUNT(*) AS submitted_claims,\n",
    "  SUM(has_denial_any) AS claims_with_denial,\n",
    "  SUM(CASE WHEN current_balance <= 0 THEN 1 ELSE 0 END) AS paid_closed_claims,\n",
    "  CAST(SUM(has_denial_any) AS DOUBLE) / COUNT(*) * 100 AS denial_rate_pct\n",
    "FROM gold.fact_claim\n",
    "GROUP BY 1, 2;\n"
   ]
  },
  {
   "cell_type": "code",
   "execution_count": 0,
   "metadata": {
    "application/vnd.databricks.v1+cell": {
     "cellMetadata": {
      "byteLimit": 2048000,
      "rowLimit": 10000
     },
     "inputWidgets": {},
     "nuid": "2dc0b464-1284-4101-8145-3b9e23cda355",
     "showTitle": false,
     "tableResultSettingsMap": {},
     "title": ""
    }
   },
   "outputs": [],
   "source": [
    "-- ===== OPEN AR BY PAYER =====\n",
    "\n",
    "CREATE OR REPLACE VIEW gold.v_aging_buckets AS\n",
    "SELECT\n",
    "  payer_name,\n",
    "  CASE\n",
    "    WHEN current_balance <= 0 THEN 'Closed'\n",
    "    WHEN DATEDIFF(current_date(), submission_date) <= 30  THEN '0–30'\n",
    "    WHEN DATEDIFF(current_date(), submission_date) <= 60  THEN '31–60'\n",
    "    WHEN DATEDIFF(current_date(), submission_date) <= 90  THEN '61–90'\n",
    "    WHEN DATEDIFF(current_date(), submission_date) <= 120 THEN '91–120'\n",
    "    ELSE '120+'\n",
    "  END AS aging_bucket,\n",
    "  SUM(current_balance) AS ar_amount,\n",
    "  COUNT(*)             AS claim_count\n",
    "FROM gold.fact_claim\n",
    "GROUP BY 1, 2;"
   ]
  },
  {
   "cell_type": "code",
   "execution_count": 0,
   "metadata": {
    "application/vnd.databricks.v1+cell": {
     "cellMetadata": {
      "byteLimit": 2048000,
      "rowLimit": 10000
     },
     "inputWidgets": {},
     "nuid": "3dc3cc0e-687e-4ac7-9825-9b5b8a3c8bce",
     "showTitle": false,
     "tableResultSettingsMap": {},
     "title": ""
    }
   },
   "outputs": [],
   "source": [
    "-- ===== TOP DENIAL CATEGORIES =====\n",
    "CREATE OR REPLACE VIEW gold.v_top_denial_categories_events AS\n",
    "SELECT\n",
    "  p.payer_name,\n",
    "  COALESCE(f.reason_category, 'Unmapped')          AS denial_category,\n",
    "  COUNT(DISTINCT f.claim_id)                       AS claims_with_this_category,\n",
    "  SUM(-1 * COALESCE(f.adjustment_amount, 0))       AS denial_amount\n",
    "FROM gold.fact_denial_event f\n",
    "LEFT JOIN silver.dim_payer p\n",
    "  ON p.payer_id = f.payer_id\n",
    "-- optional date slicing for dashboards:\n",
    "-- WHERE f.event_ts >= DATEADD(day, -90, CURRENT_DATE())\n",
    "GROUP BY p.payer_name, COALESCE(f.reason_category, 'Unmapped')\n",
    "ORDER BY denial_amount DESC;"
   ]
  },
  {
   "cell_type": "code",
   "execution_count": 0,
   "metadata": {
    "application/vnd.databricks.v1+cell": {
     "cellMetadata": {
      "byteLimit": 2048000,
      "rowLimit": 10000
     },
     "inputWidgets": {},
     "nuid": "9c4cd73b-39a3-4ad2-b448-e66a843dfbfc",
     "showTitle": false,
     "tableResultSettingsMap": {},
     "title": ""
    }
   },
   "outputs": [],
   "source": [
    "-- ===== FIRST-PASS YIELD =====\n",
    "-- claims with at least one 835 payment event and no 277 reject/request and no 835 denial, over all submitted claims in period.\n",
    "\n",
    "CREATE OR REPLACE VIEW gold.v_first_pass_yield AS\n",
    "WITH base AS (\n",
    "  SELECT\n",
    "    DATE_FORMAT(c.submission_date, 'yyyy-MM') AS submission_month,\n",
    "    c.payer_name,\n",
    "    CASE WHEN c.submission_date <= date_sub(current_date(), 14) THEN 1 ELSE 0 END AS mature_flag,\n",
    "    -- numerator flag: paid + no denial signals\n",
    "    CASE\n",
    "      WHEN c.last_835_event_ts IS NOT NULL\n",
    "           AND COALESCE(c.has_denial_any, 0) = 0\n",
    "      THEN 1 ELSE 0\n",
    "    END AS is_fpy\n",
    "  FROM gold.fact_claim c\n",
    ")\n",
    "SELECT\n",
    "  submission_month,\n",
    "  payer_name,\n",
    "  COUNT(*) FILTER (WHERE mature_flag = 1)                                      AS submitted_claims,\n",
    "  SUM(is_fpy) FILTER (WHERE mature_flag = 1)                                   AS fpy_claims,\n",
    "  CAST(SUM(is_fpy) FILTER (WHERE mature_flag = 1) AS DOUBLE)\n",
    "  / NULLIF(COUNT(*) FILTER (WHERE mature_flag = 1), 0)                          AS fpy_rate\n",
    "FROM base\n",
    "GROUP BY submission_month, payer_name;"
   ]
  }
 ],
 "metadata": {
  "application/vnd.databricks.v1+notebook": {
   "computePreferences": null,
   "dashboards": [],
   "environmentMetadata": {
    "base_environment": "",
    "environment_version": "3"
   },
   "inputWidgetPreferences": null,
   "language": "sql",
   "notebookMetadata": {
    "pythonIndentUnit": 4
   },
   "notebookName": "gold_bi_views",
   "widgets": {}
  },
  "language_info": {
   "name": "sql"
  }
 },
 "nbformat": 4,
 "nbformat_minor": 0
}
