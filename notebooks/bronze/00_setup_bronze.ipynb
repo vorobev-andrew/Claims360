{
 "cells": [
  {
   "cell_type": "code",
   "execution_count": 0,
   "metadata": {
    "application/vnd.databricks.v1+cell": {
     "cellMetadata": {},
     "inputWidgets": {},
     "nuid": "401c3896-9a62-4b16-ab46-4554818c260e",
     "showTitle": false,
     "tableResultSettingsMap": {},
     "title": ""
    }
   },
   "outputs": [],
   "source": [
    "CREATE CATALOG IF NOT EXISTS claims360_dev;\n",
    "CREATE SCHEMA IF NOT EXISTS bronze;"
   ]
  },
  {
   "cell_type": "code",
   "execution_count": 0,
   "metadata": {
    "application/vnd.databricks.v1+cell": {
     "cellMetadata": {},
     "inputWidgets": {},
     "nuid": "e0251f68-f255-4d92-ac18-8651e87d37e8",
     "showTitle": false,
     "tableResultSettingsMap": {},
     "title": ""
    }
   },
   "outputs": [],
   "source": [
    "%python\n",
    "\n",
    "# Make sure the directories exist\n",
    "\n",
    "paths = [\n",
    "  \"dbfs:/Volumes/claims360_dev/bronze/raw/remit_835\",\n",
    "  \"dbfs:/Volumes/claims360_dev/bronze/raw/ca_277\",\n",
    "  \"dbfs:/Volumes/claims360_dev/bronze/raw/ehr\",\n",
    "  \"dbfs:/Volumes/claims360_dev/bronze/ingestion/_schemas/ca_277\",\n",
    "  \"dbfs:/Volumes/claims360_dev/bronze/ingestion/_checkpoints/ca_277\",\n",
    "  \"dbfs:/Volumes/claims360_dev/bronze/ingestion/_schemas/ehr\",\n",
    "  \"dbfs:/Volumes/claims360_dev/bronze/ingestion/_checkpoints/ehr\",\n",
    "  \"dbfs:/Volumes/claims360_dev/bronze/ingestion/_schemas/remit_835\",\n",
    "  \"dbfs:/Volumes/claims360_dev/bronze/ingestion/_checkpoints/remit_835\"\n",
    "]\n",
    "\n",
    "for p in paths:\n",
    "  dbutils.fs.mkdirs(p)"
   ]
  }
 ],
 "metadata": {
  "application/vnd.databricks.v1+notebook": {
   "computePreferences": null,
   "dashboards": [],
   "environmentMetadata": {
    "base_environment": "",
    "environment_version": "3"
   },
   "inputWidgetPreferences": null,
   "language": "sql",
   "notebookMetadata": {
    "pythonIndentUnit": 4
   },
   "notebookName": "00_setup_bronze",
   "widgets": {}
  },
  "language_info": {
   "name": "sql"
  }
 },
 "nbformat": 4,
 "nbformat_minor": 0
}
