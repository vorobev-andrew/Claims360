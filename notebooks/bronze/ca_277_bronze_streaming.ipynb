{
 "cells": [
  {
   "cell_type": "markdown",
   "metadata": {
    "application/vnd.databricks.v1+cell": {
     "cellMetadata": {
      "byteLimit": 2048000,
      "rowLimit": 10000
     },
     "inputWidgets": {},
     "nuid": "e4a94bcc-343b-4835-9bf5-277cb2aa56db",
     "showTitle": false,
     "tableResultSettingsMap": {},
     "title": ""
    }
   },
   "source": [
    "###ca_277_bronze_streaming###\n"
   ]
  },
  {
   "cell_type": "code",
   "execution_count": 0,
   "metadata": {
    "application/vnd.databricks.v1+cell": {
     "cellMetadata": {
      "byteLimit": 2048000,
      "implicitDf": true,
      "rowLimit": 10000
     },
     "inputWidgets": {},
     "nuid": "484912d3-c7a2-45dc-b271-d92e831471a8",
     "showTitle": false,
     "tableResultSettingsMap": {},
     "title": ""
    }
   },
   "outputs": [],
   "source": [
    "%run ./_common_helpers"
   ]
  },
  {
   "cell_type": "code",
   "execution_count": 0,
   "metadata": {
    "application/vnd.databricks.v1+cell": {
     "cellMetadata": {
      "byteLimit": 2048000,
      "rowLimit": 10000
     },
     "inputWidgets": {},
     "nuid": "0745538d-b481-4380-bdcd-fc06384c7965",
     "showTitle": false,
     "tableResultSettingsMap": {},
     "title": ""
    }
   },
   "outputs": [],
   "source": [
    "# Widgets\n",
    "dbutils.widgets.text(\"include_existing\", \"false\") # set to true for the first time, false for subsequent runs\n",
    "dbutils.widgets.text(\"trigger\", \"once\") # set to a time value so processingTime picks it up and runs continuously\n",
    "\n",
    "# Parameters\n",
    "include_existing = dbutils.widgets.get(\"include_existing\").lower()\n",
    "trigger_str = dbutils.widgets.get(\"trigger\")"
   ]
  },
  {
   "cell_type": "code",
   "execution_count": 0,
   "metadata": {
    "application/vnd.databricks.v1+cell": {
     "cellMetadata": {
      "byteLimit": 2048000,
      "rowLimit": 10000
     },
     "inputWidgets": {},
     "nuid": "2348b400-7d02-4552-9a26-219308fc9c44",
     "showTitle": false,
     "tableResultSettingsMap": {},
     "title": ""
    }
   },
   "outputs": [],
   "source": [
    "# Paths\n",
    "base_path = \"/Volumes/claims360_dev/bronze\"\n",
    "read_path = f\"{base_path}/raw/ca_277\"\n",
    "\n",
    "checkpoint_location = f\"{base_path}/ingestion/_checkpoints/ca_277\"\n",
    "auto_loader_schema_location = f\"{base_path}/ingestion/_schemas/ca_277\"\n",
    "\n",
    "bronze_table = \"claims360_dev.bronze.ack_277ca_raw\"\n"
   ]
  },
  {
   "cell_type": "code",
   "execution_count": 0,
   "metadata": {
    "application/vnd.databricks.v1+cell": {
     "cellMetadata": {
      "byteLimit": 2048000,
      "rowLimit": 10000
     },
     "inputWidgets": {},
     "nuid": "f619c219-7437-435f-9162-6cd982ab9210",
     "showTitle": false,
     "tableResultSettingsMap": {},
     "title": ""
    }
   },
   "outputs": [],
   "source": [
    "# Reader\n",
    "src_df = (spark.readStream\n",
    "          .format(\"cloudFiles\")\n",
    "          .option(\"cloudFiles.format\", \"json\")\n",
    "          .option(\"multiLine\", \"true\")\n",
    "          .option(\"cloudFiles.schemaEvolutionMode\", \"rescue\")\n",
    "          .option(\"cloudFiles.schemaLocation\", auto_loader_schema_location)\n",
    "          .option(\"cloudFiles.rescuedDataColumn\", \"_rescued\")\n",
    "          .option(\"cloudFiles.includeExistingFiles\", include_existing)\n",
    "          .load(read_path))"
   ]
  },
  {
   "cell_type": "code",
   "execution_count": 0,
   "metadata": {
    "application/vnd.databricks.v1+cell": {
     "cellMetadata": {
      "byteLimit": 2048000,
      "rowLimit": 10000
     },
     "inputWidgets": {},
     "nuid": "583bf18b-9d99-4bb0-81ce-c95f576774c8",
     "showTitle": false,
     "tableResultSettingsMap": {},
     "title": ""
    }
   },
   "outputs": [],
   "source": [
    "# Add metadata\n",
    "bronze_df = add_ingest_metadata(src_df, \"277CA\")"
   ]
  },
  {
   "cell_type": "code",
   "execution_count": 0,
   "metadata": {
    "application/vnd.databricks.v1+cell": {
     "cellMetadata": {
      "byteLimit": 2048000,
      "rowLimit": 10000
     },
     "inputWidgets": {},
     "nuid": "5f81898a-011b-4e46-9b37-5e4c614010c1",
     "showTitle": false,
     "tableResultSettingsMap": {},
     "title": ""
    }
   },
   "outputs": [],
   "source": [
    "# Writer\n",
    "(bronze_df.writeStream\n",
    "    .format(\"delta\")\n",
    "    .outputMode(\"append\")\n",
    "    .trigger(availableNow=True)\n",
    "    .option(\"checkpointLocation\", checkpoint_location)\n",
    "    .option(\"mergeSchema\", \"true\")\n",
    "    .toTable(bronze_table))"
   ]
  }
 ],
 "metadata": {
  "application/vnd.databricks.v1+notebook": {
   "computePreferences": {
    "hardware": {
     "accelerator": null,
     "gpuPoolId": null,
     "memory": null
    }
   },
   "dashboards": [],
   "environmentMetadata": {
    "base_environment": "",
    "environment_version": "3"
   },
   "inputWidgetPreferences": null,
   "language": "python",
   "notebookMetadata": {
    "mostRecentlyExecutedCommandWithImplicitDF": {
     "commandId": 5249450141356989,
     "dataframes": [
      "_sqldf"
     ]
    },
    "pythonIndentUnit": 4
   },
   "notebookName": "ca_277_bronze_streaming",
   "widgets": {
    "include_existing": {
     "currentValue": "true",
     "nuid": "6f359ec8-a8a0-407e-9f19-c507fd4b988d",
     "typedWidgetInfo": {
      "autoCreated": false,
      "defaultValue": "false",
      "label": null,
      "name": "include_existing",
      "options": {
       "widgetDisplayType": "Text",
       "validationRegex": null
      },
      "parameterDataType": "String"
     },
     "widgetInfo": {
      "widgetType": "text",
      "defaultValue": "false",
      "label": null,
      "name": "include_existing",
      "options": {
       "widgetType": "text",
       "autoCreated": null,
       "validationRegex": null
      }
     }
    },
    "trigger": {
     "currentValue": "1 minute",
     "nuid": "0f192a73-6952-457e-89d3-30e509e2306f",
     "typedWidgetInfo": {
      "autoCreated": false,
      "defaultValue": "once",
      "label": null,
      "name": "trigger",
      "options": {
       "widgetDisplayType": "Text",
       "validationRegex": null
      },
      "parameterDataType": "String"
     },
     "widgetInfo": {
      "widgetType": "text",
      "defaultValue": "once",
      "label": null,
      "name": "trigger",
      "options": {
       "widgetType": "text",
       "autoCreated": null,
       "validationRegex": null
      }
     }
    }
   }
  },
  "language_info": {
   "name": "python"
  }
 },
 "nbformat": 4,
 "nbformat_minor": 0
}
