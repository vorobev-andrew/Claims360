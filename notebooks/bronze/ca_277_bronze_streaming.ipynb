{
 "cells": [
  {
   "cell_type": "markdown",
   "metadata": {
    "application/vnd.databricks.v1+cell": {
     "cellMetadata": {
      "byteLimit": 2048000,
      "rowLimit": 10000
     },
     "inputWidgets": {},
     "nuid": "e4a94bcc-343b-4835-9bf5-277cb2aa56db",
     "showTitle": false,
     "tableResultSettingsMap": {},
     "title": ""
    }
   },
   "source": [
    "###ca_277_bronze_streaming###\n"
   ]
  },
  {
   "cell_type": "code",
   "execution_count": 0,
   "metadata": {
    "application/vnd.databricks.v1+cell": {
     "cellMetadata": {
      "byteLimit": 2048000,
      "rowLimit": 10000
     },
     "inputWidgets": {},
     "nuid": "484912d3-c7a2-45dc-b271-d92e831471a8",
     "showTitle": false,
     "tableResultSettingsMap": {},
     "title": ""
    }
   },
   "outputs": [],
   "source": [
    "%run ./_common_helpers"
   ]
  },
  {
   "cell_type": "code",
   "execution_count": 0,
   "metadata": {
    "application/vnd.databricks.v1+cell": {
     "cellMetadata": {
      "byteLimit": 2048000,
      "rowLimit": 10000
     },
     "inputWidgets": {},
     "nuid": "0745538d-b481-4380-bdcd-fc06384c7965",
     "showTitle": false,
     "tableResultSettingsMap": {},
     "title": ""
    }
   },
   "outputs": [],
   "source": [
    "# Widgets\n",
    "dbutils.widgets.text(\"include_existing\", \"true\") # set to true for the first time, false for subsequent runs\n",
    "dbutils.widgets.text(\"trigger\", \"1 minute\")\n",
    "\n",
    "# Parameters\n",
    "include_existing = dbutils.widgets.get(\"include_existing\").lower()\n",
    "trigger_str = dbutils.widgets.get(\"trigger\")"
   ]
  },
  {
   "cell_type": "code",
   "execution_count": 0,
   "metadata": {
    "application/vnd.databricks.v1+cell": {
     "cellMetadata": {
      "byteLimit": 2048000,
      "implicitDf": true,
      "rowLimit": 10000
     },
     "inputWidgets": {},
     "nuid": "9ce4fc51-5c40-4d51-87ad-30e54369ed5f",
     "showTitle": false,
     "tableResultSettingsMap": {},
     "title": ""
    }
   },
   "outputs": [],
   "source": [
    "%sql\n",
    "CREATE EXTERNAL TABLE IF NOT EXISTS claims360_dev.bronze.ca_277\n",
    "COMMENT '277 Claim Acknowledgements Bronze layer'\n",
    "LOCATION 'abfss://external-storage@claims360.dfs.core.windows.net/claims360/bronze/ca_277'"
   ]
  },
  {
   "cell_type": "code",
   "execution_count": 0,
   "metadata": {
    "application/vnd.databricks.v1+cell": {
     "cellMetadata": {
      "byteLimit": 2048000,
      "rowLimit": 10000
     },
     "inputWidgets": {},
     "nuid": "2348b400-7d02-4552-9a26-219308fc9c44",
     "showTitle": false,
     "tableResultSettingsMap": {},
     "title": ""
    }
   },
   "outputs": [],
   "source": [
    "# Paths\n",
    "base_path = \"/Volumes/claims360_dev/bronze\"\n",
    "read_path = f\"{base_path}/raw/ca_277\"\n",
    "\n",
    "checkpoint_location = f\"{base_path}/ingestion/_checkpoints\"\n",
    "auto_loader_schema_location = f\"{base_path}/ingestion/_schemas\"\n",
    "\n",
    "bronze_table = \"claims360_dev.bronze.ca_277\"\n",
    "schema_path = \"../../schemas/ca_277.json\"\n"
   ]
  },
  {
   "cell_type": "code",
   "execution_count": 0,
   "metadata": {
    "application/vnd.databricks.v1+cell": {
     "cellMetadata": {
      "byteLimit": 2048000,
      "rowLimit": 10000
     },
     "inputWidgets": {},
     "nuid": "4b5bb772-6da3-48c2-8358-396a3a9a374a",
     "showTitle": false,
     "tableResultSettingsMap": {},
     "title": ""
    }
   },
   "outputs": [],
   "source": [
    "# Load schema\n",
    "schema = load_schema(schema_path)"
   ]
  },
  {
   "cell_type": "code",
   "execution_count": 0,
   "metadata": {
    "application/vnd.databricks.v1+cell": {
     "cellMetadata": {
      "byteLimit": 2048000,
      "rowLimit": 10000
     },
     "inputWidgets": {},
     "nuid": "f619c219-7437-435f-9162-6cd982ab9210",
     "showTitle": false,
     "tableResultSettingsMap": {},
     "title": ""
    }
   },
   "outputs": [],
   "source": [
    "# Reader\n",
    "src_df = (spark.readStream.format(\"cloudFiles\")\n",
    "          .option(\"cloudFiles.format\", \"json\")\n",
    "          .option(\"cloudFiles.schemaLocation\", auto_loader_schema_location)\n",
    "          .option(\"cloudFiles.rescuedDataColumn\", \"_rescued\")\n",
    "          .option(\"cloudFiles.includeExistingFiles\", include_existing)\n",
    "          .schema(schema)\n",
    "          .load(read_path))"
   ]
  },
  {
   "cell_type": "code",
   "execution_count": 0,
   "metadata": {
    "application/vnd.databricks.v1+cell": {
     "cellMetadata": {
      "byteLimit": 2048000,
      "rowLimit": 10000
     },
     "inputWidgets": {},
     "nuid": "583bf18b-9d99-4bb0-81ce-c95f576774c8",
     "showTitle": false,
     "tableResultSettingsMap": {},
     "title": ""
    }
   },
   "outputs": [],
   "source": [
    "# Add metadata\n",
    "bronze_df = add_ingest_metadata(src_df, \"277CA\")"
   ]
  },
  {
   "cell_type": "code",
   "execution_count": 0,
   "metadata": {
    "application/vnd.databricks.v1+cell": {
     "cellMetadata": {
      "byteLimit": 2048000,
      "rowLimit": 10000
     },
     "inputWidgets": {},
     "nuid": "5f81898a-011b-4e46-9b37-5e4c614010c1",
     "showTitle": false,
     "tableResultSettingsMap": {},
     "title": ""
    }
   },
   "outputs": [],
   "source": [
    "# Writer\n",
    "(bronze_df.writeStream.format(\"delta\")\n",
    "   .outputMode(\"append\")\n",
    "   .option(\"checkpointLocation\", checkpoint_location)\n",
    "   .option(\"mergeSchema\", \"true\")\n",
    "   #.trigger(processingTime=trigger_str)\n",
    "   .toTable(bronze_table))"
   ]
  }
 ],
 "metadata": {
  "application/vnd.databricks.v1+notebook": {
   "computePreferences": {
    "hardware": {
     "accelerator": null,
     "gpuPoolId": null,
     "memory": null
    }
   },
   "dashboards": [],
   "environmentMetadata": {
    "base_environment": "",
    "environment_version": "3"
   },
   "inputWidgetPreferences": null,
   "language": "python",
   "notebookMetadata": {
    "mostRecentlyExecutedCommandWithImplicitDF": {
     "commandId": 5249450141357008,
     "dataframes": [
      "_sqldf"
     ]
    },
    "pythonIndentUnit": 4
   },
   "notebookName": "ca_277_bronze_streaming",
   "widgets": {
    "include_existing": {
     "currentValue": "true",
     "nuid": "6f359ec8-a8a0-407e-9f19-c507fd4b988d",
     "typedWidgetInfo": {
      "autoCreated": false,
      "defaultValue": "true",
      "label": null,
      "name": "include_existing",
      "options": {
       "widgetDisplayType": "Text",
       "validationRegex": null
      },
      "parameterDataType": "String"
     },
     "widgetInfo": {
      "widgetType": "text",
      "defaultValue": "true",
      "label": null,
      "name": "include_existing",
      "options": {
       "widgetType": "text",
       "autoCreated": null,
       "validationRegex": null
      }
     }
    },
    "trigger": {
     "currentValue": "1 minute",
     "nuid": "0f192a73-6952-457e-89d3-30e509e2306f",
     "typedWidgetInfo": {
      "autoCreated": false,
      "defaultValue": "1 minute",
      "label": null,
      "name": "trigger",
      "options": {
       "widgetDisplayType": "Text",
       "validationRegex": null
      },
      "parameterDataType": "String"
     },
     "widgetInfo": {
      "widgetType": "text",
      "defaultValue": "1 minute",
      "label": null,
      "name": "trigger",
      "options": {
       "widgetType": "text",
       "autoCreated": null,
       "validationRegex": null
      }
     }
    }
   }
  },
  "language_info": {
   "name": "python"
  }
 },
 "nbformat": 4,
 "nbformat_minor": 0
}
