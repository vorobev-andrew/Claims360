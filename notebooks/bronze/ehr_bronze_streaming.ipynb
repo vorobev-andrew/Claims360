{
 "cells": [
  {
   "cell_type": "markdown",
   "metadata": {
    "application/vnd.databricks.v1+cell": {
     "cellMetadata": {
      "byteLimit": 2048000,
      "rowLimit": 10000
     },
     "inputWidgets": {},
     "nuid": "2da2f5bc-c066-48c1-a1e6-d9a6fad316fa",
     "showTitle": false,
     "tableResultSettingsMap": {},
     "title": ""
    }
   },
   "source": [
    "###ehr_bronze_streaming###\n"
   ]
  },
  {
   "cell_type": "code",
   "execution_count": 0,
   "metadata": {
    "application/vnd.databricks.v1+cell": {
     "cellMetadata": {
      "byteLimit": 2048000,
      "implicitDf": true,
      "rowLimit": 10000
     },
     "inputWidgets": {},
     "nuid": "966a8725-5cbf-4027-b380-ed1a6031d4f3",
     "showTitle": false,
     "tableResultSettingsMap": {},
     "title": ""
    }
   },
   "outputs": [],
   "source": [
    "%run ./_common_helpers"
   ]
  },
  {
   "cell_type": "code",
   "execution_count": 0,
   "metadata": {
    "application/vnd.databricks.v1+cell": {
     "cellMetadata": {
      "byteLimit": 2048000,
      "rowLimit": 10000
     },
     "inputWidgets": {},
     "nuid": "bf282d4d-6e74-417b-ba55-92f34a759978",
     "showTitle": false,
     "tableResultSettingsMap": {},
     "title": ""
    }
   },
   "outputs": [],
   "source": [
    "# Widgets\n",
    "dbutils.widgets.text(\"include_existing\", \"false\") # set to true for the first time, false for subsequent runs\n",
    "dbutils.widgets.text(\"trigger\", \"once\")\n",
    "\n",
    "# Parameters\n",
    "include_existing = dbutils.widgets.get(\"include_existing\").lower()\n",
    "trigger_str = dbutils.widgets.get(\"trigger\")"
   ]
  },
  {
   "cell_type": "code",
   "execution_count": 0,
   "metadata": {
    "application/vnd.databricks.v1+cell": {
     "cellMetadata": {
      "byteLimit": 2048000,
      "rowLimit": 10000
     },
     "inputWidgets": {},
     "nuid": "2dc072f2-7c88-4b17-9fbe-53f453d68daf",
     "showTitle": false,
     "tableResultSettingsMap": {},
     "title": ""
    }
   },
   "outputs": [],
   "source": [
    "# Paths\n",
    "base_path = \"/Volumes/claims360_dev/bronze\"\n",
    "read_path = f\"{base_path}/raw/ehr\"\n",
    "\n",
    "checkpoint_location = f\"{base_path}/ingestion/_checkpoints/ehr\"\n",
    "auto_loader_schema_location = f\"{base_path}/ingestion/_schemas/ehr\"\n",
    "\n",
    "bronze_table = \"claims360_dev.bronze.ehr_claims_raw\""
   ]
  },
  {
   "cell_type": "code",
   "execution_count": 0,
   "metadata": {
    "application/vnd.databricks.v1+cell": {
     "cellMetadata": {
      "byteLimit": 2048000,
      "rowLimit": 10000
     },
     "inputWidgets": {},
     "nuid": "f1aba118-5a73-4d1e-ac0e-1d1e1f5f29d5",
     "showTitle": false,
     "tableResultSettingsMap": {},
     "title": ""
    }
   },
   "outputs": [],
   "source": [
    "# Reader\n",
    "src_df = (spark.readStream\n",
    "          .format(\"cloudFiles\")\n",
    "          .option(\"cloudFiles.format\", \"json\")\n",
    "          .option(\"multiLine\", \"true\")\n",
    "          .option(\"cloudFiles.schemaEvolutionMode\", \"rescue\")\n",
    "          .option(\"cloudFiles.rescuedDataColumn\", \"_rescued\")\n",
    "          .option(\"cloudFiles.includeExistingFiles\", include_existing)\n",
    "          .option(\"cloudFiles.schemaLocation\", auto_loader_schema_location)\n",
    "          .load(read_path))"
   ]
  },
  {
   "cell_type": "code",
   "execution_count": 0,
   "metadata": {
    "application/vnd.databricks.v1+cell": {
     "cellMetadata": {
      "byteLimit": 2048000,
      "rowLimit": 10000
     },
     "inputWidgets": {},
     "nuid": "6866b14f-dd76-46fd-9eca-4ac23655455c",
     "showTitle": false,
     "tableResultSettingsMap": {},
     "title": ""
    }
   },
   "outputs": [],
   "source": [
    "# Add metadata\n",
    "bronze_df = add_ingest_metadata(src_df, \"EHR\")"
   ]
  },
  {
   "cell_type": "code",
   "execution_count": 0,
   "metadata": {
    "application/vnd.databricks.v1+cell": {
     "cellMetadata": {
      "byteLimit": 2048000,
      "rowLimit": 10000
     },
     "inputWidgets": {},
     "nuid": "c363e2b1-3cf0-4a9a-a6b9-3070c79915e7",
     "showTitle": false,
     "tableResultSettingsMap": {},
     "title": ""
    }
   },
   "outputs": [],
   "source": [
    "# Writer\n",
    "(bronze_df.writeStream\n",
    "    .format(\"delta\")\n",
    "    .outputMode(\"append\")\n",
    "    .trigger(availableNow=True)\n",
    "    .option(\"checkpointLocation\", checkpoint_location)\n",
    "    .option(\"mergeSchema\", \"true\")\n",
    "    .toTable(bronze_table))"
   ]
  }
 ],
 "metadata": {
  "application/vnd.databricks.v1+notebook": {
   "computePreferences": null,
   "dashboards": [],
   "environmentMetadata": {
    "base_environment": "",
    "environment_version": "3"
   },
   "inputWidgetPreferences": null,
   "language": "python",
   "notebookMetadata": {
    "mostRecentlyExecutedCommandWithImplicitDF": {
     "commandId": 5249450141356986,
     "dataframes": [
      "_sqldf"
     ]
    },
    "pythonIndentUnit": 4
   },
   "notebookName": "ehr_bronze_streaming",
   "widgets": {
    "include_existing": {
     "currentValue": "true",
     "nuid": "663dfc67-2a5d-4c58-a7dc-d28e45ba03da",
     "typedWidgetInfo": {
      "autoCreated": false,
      "defaultValue": "false",
      "label": null,
      "name": "include_existing",
      "options": {
       "widgetDisplayType": "Text",
       "validationRegex": null
      },
      "parameterDataType": "String"
     },
     "widgetInfo": {
      "widgetType": "text",
      "defaultValue": "false",
      "label": null,
      "name": "include_existing",
      "options": {
       "widgetType": "text",
       "autoCreated": null,
       "validationRegex": null
      }
     }
    },
    "trigger": {
     "currentValue": "once",
     "nuid": "a5514ef1-9a9d-40f5-a8dc-ccdf745771aa",
     "typedWidgetInfo": {
      "autoCreated": false,
      "defaultValue": "once",
      "label": null,
      "name": "trigger",
      "options": {
       "widgetDisplayType": "Text",
       "validationRegex": null
      },
      "parameterDataType": "String"
     },
     "widgetInfo": {
      "widgetType": "text",
      "defaultValue": "once",
      "label": null,
      "name": "trigger",
      "options": {
       "widgetType": "text",
       "autoCreated": null,
       "validationRegex": null
      }
     }
    }
   }
  },
  "language_info": {
   "name": "python"
  }
 },
 "nbformat": 4,
 "nbformat_minor": 0
}
