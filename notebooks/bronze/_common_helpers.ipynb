{
 "cells": [
  {
   "cell_type": "code",
   "execution_count": 0,
   "metadata": {
    "application/vnd.databricks.v1+cell": {
     "cellMetadata": {},
     "inputWidgets": {},
     "nuid": "212412e0-ce56-4dea-b8e8-219652886a38",
     "showTitle": false,
     "tableResultSettingsMap": {},
     "title": ""
    }
   },
   "outputs": [],
   "source": [
    "import json\n",
    "from pyspark.sql.types import StructType\n",
    "from pyspark.sql.functions import current_timestamp, lit, col\n",
    "\n",
    "\n",
    "def load_schema(path: str) -> StructType:\n",
    "    \"\"\"\n",
    "    Load a schema from a JSON file into a Spark StructType.\n",
    "    Use for static Bronze schemas checked into git.\n",
    "    \"\"\"\n",
    "    with open(path, \"r\") as f:\n",
    "        return StructType.fromJson(json.load(f))\n",
    "\n",
    "\n",
    "def add_ingest_metadata(df, source_system: str):\n",
    "    \"\"\"\n",
    "    Add standard Bronze ingestion metadata columns:\n",
    "    - _ingest_ts: current timestamp of ingestion\n",
    "    - _ingest_file: source file path\n",
    "    - _source_system: logical system identifier (e.g., '277CA', '835', 'EHR')\n",
    "    \"\"\"\n",
    "    return (\n",
    "        df.withColumn(\"_ingest_ts\", current_timestamp())\n",
    "          .withColumn(\"_ingest_file\", col(\"_metadata.file_path\"))\n",
    "          .withColumn(\"_source_system\", lit(source_system))\n",
    "    )"
   ]
  },
  {
   "cell_type": "code",
   "execution_count": 0,
   "metadata": {
    "application/vnd.databricks.v1+cell": {
     "cellMetadata": {},
     "inputWidgets": {},
     "nuid": "4bd7d49b-c0e2-4c7c-99a2-1698b0106812",
     "showTitle": false,
     "tableResultSettingsMap": {},
     "title": ""
    }
   },
   "outputs": [],
   "source": [
    "%sql\n",
    "CREATE EXTERNAL VOLUME IF NOT EXISTS claims360_dev.bronze.ingestion\n",
    "LOCATION 'abfss://external-storage@claims360.dfs.core.windows.net/claims360/ops/ingestion/'\n",
    "COMMENT 'For autoloader schemas and checkpoints, logs';"
   ]
  },
  {
   "cell_type": "code",
   "execution_count": 0,
   "metadata": {
    "application/vnd.databricks.v1+cell": {
     "cellMetadata": {},
     "inputWidgets": {},
     "nuid": "f92c540e-3694-4d63-bff1-c57e6175fba7",
     "showTitle": false,
     "tableResultSettingsMap": {},
     "title": ""
    }
   },
   "outputs": [],
   "source": []
  }
 ],
 "metadata": {
  "application/vnd.databricks.v1+notebook": {
   "computePreferences": null,
   "dashboards": [],
   "environmentMetadata": {
    "base_environment": "",
    "environment_version": "3"
   },
   "inputWidgetPreferences": null,
   "language": "python",
   "notebookMetadata": {
    "pythonIndentUnit": 4
   },
   "notebookName": "_common_helpers",
   "widgets": {}
  },
  "language_info": {
   "name": "python"
  }
 },
 "nbformat": 4,
 "nbformat_minor": 0
}
