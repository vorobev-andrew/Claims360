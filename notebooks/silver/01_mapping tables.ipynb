{
 "cells": [
  {
   "cell_type": "code",
   "execution_count": 0,
   "metadata": {
    "application/vnd.databricks.v1+cell": {
     "cellMetadata": {
      "byteLimit": 2048000,
      "rowLimit": 10000
     },
     "inputWidgets": {},
     "nuid": "c1160313-ced1-48b4-99e9-fa84bbba9100",
     "showTitle": false,
     "tableResultSettingsMap": {},
     "title": ""
    }
   },
   "outputs": [],
   "source": [
    "USE CATALOG claims360_dev;\n",
    "\n",
    "-- map denial reasons\n",
    "\n",
    "CREATE TABLE IF NOT EXISTS silver.dim_denial_reason_map (\n",
    "  code_type       STRING,          -- 'CARC' or 'RARC'\n",
    "  code            STRING,          -- e.g. 'CO45'\n",
    "  reason_category STRING,          -- normalized bucket\n",
    "  is_denial       BOOLEAN,         -- true if this should count as a denial\n",
    "  notes           STRING\n",
    ") USING DELTA;\n",
    "\n",
    "INSERT OVERWRITE TABLE silver.dim_denial_reason_map VALUES\n",
    "-- Pricing/contractual\n",
    "('CARC','CO45','Pricing/Contractual', true,  'Charge exceeds fee schedule/maximum'),\n",
    "('CARC','CO97','Bundled/Included',    true,  'Included in allowance for another service'),\n",
    "\n",
    "-- Coordination of Benefits / prior payer\n",
    "('CARC','OA23','Coordination of Benefits', true, 'Impact of prior payer adjudication'),\n",
    "\n",
    "-- Timely filing\n",
    "('CARC','CO29','Timely Filing',        true, 'Time limit for filing expired'),\n",
    "\n",
    "-- Patient responsibility\n",
    "('CARC','PR1', 'Patient Responsibility', true, 'Deductible amount'),\n",
    "\n",
    "-- Payer policy/clinical edit (PI = Payer Initiated)\n",
    "('CARC','PI204','Policy/Clinical Edit', true, 'Service included in another procedure'),\n",
    "\n",
    "-- Catchalls you could refine over time\n",
    "('CARC','CO',   'Contractual/Other',    true,  'Other CO family'),\n",
    "('CARC','PR',   'Patient Responsibility',true, 'Other PR family'),\n",
    "('CARC','PI',   'Policy/Clinical Edit', true,  'Other PI family'),\n",
    "('CARC','OA',   'Other Adjustment',     true,  'Other OA family'),\n",
    "\n",
    "-- Example RARC rows (none shown in your sample; placeholders)\n",
    "('RARC','N130','Documentation',         true,  'Incomplete/invalid documentation');"
   ]
  },
  {
   "cell_type": "code",
   "execution_count": 0,
   "metadata": {
    "application/vnd.databricks.v1+cell": {
     "cellMetadata": {
      "byteLimit": 2048000,
      "rowLimit": 10000
     },
     "inputWidgets": {},
     "nuid": "edba3146-38fd-4cde-84ae-c71cb6744ddb",
     "showTitle": false,
     "tableResultSettingsMap": {},
     "title": ""
    }
   },
   "outputs": [],
   "source": [
    "-- Payer ID/name dimension mapping\n",
    "CREATE TABLE IF NOT EXISTS silver.dim_payer (\n",
    "  payer_id STRING PRIMARY KEY,\n",
    "  payer_name STRING NOT NULL\n",
    ");\n",
    "\n",
    "INSERT INTO silver.dim_payer \n",
    "VALUES\n",
    "('PAYER001', 'Aetna'),\n",
    "('PAYER002', 'Anthem BCBS'),\n",
    "('PAYER003', 'Cigna'),\n",
    "('PAYER004', 'UnitedHealthcare'),\n",
    "('PAYER005', 'Humana');"
   ]
  }
 ],
 "metadata": {
  "application/vnd.databricks.v1+notebook": {
   "computePreferences": null,
   "dashboards": [],
   "environmentMetadata": {
    "base_environment": "",
    "environment_version": "3"
   },
   "inputWidgetPreferences": null,
   "language": "sql",
   "notebookMetadata": {
    "pythonIndentUnit": 4
   },
   "notebookName": "01_mapping tables",
   "widgets": {}
  },
  "language_info": {
   "name": "sql"
  }
 },
 "nbformat": 4,
 "nbformat_minor": 0
}
