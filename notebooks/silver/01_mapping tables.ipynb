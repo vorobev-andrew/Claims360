{
 "cells": [
  {
   "cell_type": "code",
   "execution_count": 0,
   "metadata": {
    "application/vnd.databricks.v1+cell": {
     "cellMetadata": {
      "byteLimit": 2048000,
      "rowLimit": 10000
     },
     "inputWidgets": {},
     "nuid": "c1160313-ced1-48b4-99e9-fa84bbba9100",
     "showTitle": false,
     "tableResultSettingsMap": {},
     "title": ""
    }
   },
   "outputs": [],
   "source": [
    "USE CATALOG claims360_dev;\n",
    "USE SCHEMA silver;\n",
    "\n",
    "-- map denial reasons\n",
    "\n",
    "CREATE TABLE IF NOT EXISTS silver.dim_denial_reason_map (\n",
    "  code_type       STRING,          -- 'CARC' or 'RARC'\n",
    "  code            STRING,          -- e.g. 'CO45'\n",
    "  reason_category STRING,          -- normalized bucket\n",
    "  is_denial       BOOLEAN,         -- true if this should count as a denial\n",
    "  notes           STRING\n",
    ") USING DELTA;\n",
    "\n",
    "INSERT OVERWRITE TABLE silver.dim_denial_reason_map VALUES\n",
    "-- Pricing/contractual\n",
    "('CARC','CO45','Pricing/Contractual', true,  'Charge exceeds fee schedule/maximum'),\n",
    "('CARC','CO97','Bundled/Included',    true,  'Included in allowance for another service'),\n",
    "\n",
    "-- Coordination of Benefits / prior payer\n",
    "('CARC','OA23','Coordination of Benefits', true, 'Impact of prior payer adjudication'),\n",
    "\n",
    "-- Timely filing\n",
    "('CARC','CO29','Timely Filing',        true, 'Time limit for filing expired'),\n",
    "\n",
    "-- Patient responsibility\n",
    "('CARC','PR1', 'Patient Responsibility', true, 'Deductible amount'),\n",
    "\n",
    "-- Payer policy/clinical edit (PI = Payer Initiated)\n",
    "('CARC','PI204','Policy/Clinical Edit', true, 'Service included in another procedure'),\n",
    "\n",
    "-- Catchalls to refine over time\n",
    "('CARC','CO',   'Contractual/Other',    true,  'Other CO family'),\n",
    "('CARC','PR',   'Patient Responsibility',true, 'Other PR family'),\n",
    "('CARC','PI',   'Policy/Clinical Edit', true,  'Other PI family'),\n",
    "('CARC','OA',   'Other Adjustment',     true,  'Other OA family'),\n",
    "\n",
    "-- RARC rows (none in data)\n",
    "('RARC','N130','Documentation',         true,  'Incomplete/invalid documentation');"
   ]
  },
  {
   "cell_type": "code",
   "execution_count": 0,
   "metadata": {
    "application/vnd.databricks.v1+cell": {
     "cellMetadata": {
      "byteLimit": 2048000,
      "rowLimit": 10000
     },
     "inputWidgets": {},
     "nuid": "edba3146-38fd-4cde-84ae-c71cb6744ddb",
     "showTitle": false,
     "tableResultSettingsMap": {},
     "title": ""
    }
   },
   "outputs": [],
   "source": [
    "USE CATALOG claims360_dev;\n",
    "USE SCHEMA silver;\n",
    "\n",
    "-- Dimension table\n",
    "CREATE OR REPLACE TABLE silver.dim_payer (\n",
    "  payer_id   STRING NOT NULL,\n",
    "  payer_name STRING NOT NULL,\n",
    "  payer_type STRING NOT NULL,\n",
    "  updated_at TIMESTAMP\n",
    ")\n",
    "USING DELTA;\n",
    "\n",
    "-- Inline data as a temp view (session-scoped)\n",
    "CREATE OR REPLACE TEMP VIEW _dim_payer_upsert AS\n",
    "SELECT *\n",
    "FROM VALUES\n",
    "  ('PAYER001', 'Aetna',            'Commercial'),\n",
    "  ('PAYER002', 'Anthem BCBS',      'Commercial'),\n",
    "  ('PAYER003', 'Cigna',            'Commercial'),\n",
    "  ('PAYER004', 'UnitedHealthcare', 'Commercial'),\n",
    "  ('PAYER005', 'Humana',           'Commercial'),\n",
    "  ('PAYER006', 'Kaiser',           'Commercial'),\n",
    "  ('PAYER007', 'Medicare',         'Government'),\n",
    "  ('PAYER008', 'Medicaid',         'Government')  \n",
    "AS t(payer_id, payer_name, payer_type);\n",
    "\n",
    "-- Merge (idempotent)\n",
    "MERGE INTO silver.dim_payer d\n",
    "USING (\n",
    "  SELECT payer_id, payer_name, payer_type\n",
    "  FROM _dim_payer_upsert\n",
    ") s\n",
    "ON d.payer_id = s.payer_id\n",
    "WHEN MATCHED THEN\n",
    "  UPDATE SET\n",
    "    d.payer_name = s.payer_name,\n",
    "    d.payer_type = s.payer_type,\n",
    "    d.updated_at = current_timestamp()\n",
    "WHEN NOT MATCHED THEN\n",
    "  INSERT (payer_id, payer_name, payer_type)\n",
    "  VALUES (s.payer_id, s.payer_name, s.payer_type);"
   ]
  }
 ],
 "metadata": {
  "application/vnd.databricks.v1+notebook": {
   "computePreferences": null,
   "dashboards": [],
   "environmentMetadata": {
    "base_environment": "",
    "environment_version": "3"
   },
   "inputWidgetPreferences": null,
   "language": "sql",
   "notebookMetadata": {
    "pythonIndentUnit": 4
   },
   "notebookName": "01_mapping tables",
   "widgets": {}
  },
  "language_info": {
   "name": "sql"
  }
 },
 "nbformat": 4,
 "nbformat_minor": 0
}
