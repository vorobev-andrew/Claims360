{
 "cells": [
  {
   "cell_type": "code",
   "execution_count": 0,
   "metadata": {
    "application/vnd.databricks.v1+cell": {
     "cellMetadata": {
      "byteLimit": 2048000,
      "rowLimit": 10000
     },
     "inputWidgets": {},
     "nuid": "fb12e1ed-0553-4006-96ff-f851c507560c",
     "showTitle": false,
     "tableResultSettingsMap": {},
     "title": ""
    }
   },
   "outputs": [],
   "source": [
    "%run\n",
    "./_common_helpers"
   ]
  },
  {
   "cell_type": "markdown",
   "metadata": {
    "application/vnd.databricks.v1+cell": {
     "cellMetadata": {},
     "inputWidgets": {},
     "nuid": "e74c1f1a-6e19-46e3-a35d-a2d7c5b7d4db",
     "showTitle": false,
     "tableResultSettingsMap": {},
     "title": ""
    }
   },
   "source": [
    "---\n",
    "### Purpose: ###  \n",
    "Feed raw EHR bronze data into silver `claim_headers`, `claim_lines` tables\n"
   ]
  },
  {
   "cell_type": "markdown",
   "metadata": {
    "application/vnd.databricks.v1+cell": {
     "cellMetadata": {},
     "inputWidgets": {},
     "nuid": "2ed2e773-e5a4-4afa-91b8-2c15462de7fd",
     "showTitle": false,
     "tableResultSettingsMap": {},
     "title": ""
    }
   },
   "source": [
    "---\n",
    "- Normalize types\n",
    "- Map EHR `workqueue_status` -> claim `current_status`\n",
    "- Treat each EHR row as one line; if later on you ingest line-item detail it will remain compatible.\n",
    "- Bad rows missing `claim_id`, bad money/date go to the `_rejects` table\n",
    "---"
   ]
  },
  {
   "cell_type": "markdown",
   "metadata": {
    "application/vnd.databricks.v1+cell": {
     "cellMetadata": {},
     "inputWidgets": {},
     "nuid": "860f2853-87a3-4295-afb3-abca22e88670",
     "showTitle": false,
     "tableResultSettingsMap": {},
     "title": ""
    }
   },
   "source": [
    "---\n",
    "### Assumes: ###  \n",
    "`as_of_date` is the claim submission snapshot date from the EHR. "
   ]
  },
  {
   "cell_type": "code",
   "execution_count": 0,
   "metadata": {
    "application/vnd.databricks.v1+cell": {
     "cellMetadata": {},
     "inputWidgets": {},
     "nuid": "f41efb4e-39e6-4752-94c8-1e135ae023c0",
     "showTitle": false,
     "tableResultSettingsMap": {},
     "title": ""
    }
   },
   "outputs": [],
   "source": [
    "-- EHR to silver.claim_headers\n",
    "\n",
    "-- Quarantine first\n",
    "CREATE OR REPLACE TABLE silver.ehr_claim_headers_rejects AS\n",
    "SELECT *\n",
    "FROM bronze.ehr_claims_raw\n",
    "WHERE claim_id IS NULL\n",
    "  OR fn_to_dec_safe(billed_amt) IS NULL\n",
    "  OR fn_to_date_safe(as_of_date) IS NULL;\n",
    "\n",
    "-- Create the target once with constraints\n",
    "CREATE TABLE IF NOT EXISTS silver.claim_headers (\n",
    "  claim_id STRING NOT NULL,\n",
    "  payer_id STRING,\n",
    "  patient_id STRING,\n",
    "  submission_date DATE,\n",
    "  submission_ts TIMESTAMP,\n",
    "  total_charges DECIMAL(18,2),\n",
    "  expected_amount DECIMAL(18,2),\n",
    "  current_status STRING,\n",
    "  current_status_ts TIMESTAMP,\n",
    "  last_277ca_event_ts TIMESTAMP,\n",
    "  last_835_event_ts TIMESTAMP,\n",
    "  weekday_submitted INT,\n",
    "  is_weekend_submission BOOLEAN,\n",
    "  source_system STRING,\n",
    "  _ingest_ts TIMESTAMP,\n",
    "  _ingest_file STRING,\n",
    "  CONSTRAINT check_status CHECK (current_status IN ('Submitted','Pending','Denied','Accepted','Rejected'))\n",
    ")\n",
    "USING DELTA\n",
    "CLUSTER BY (claim_id);\n",
    "\n",
    "-- Stage the latest per-claim for this load window\n",
    "CREATE OR REPLACE TEMP VIEW stg_ehr_claim_headers AS\n",
    "SELECT *\n",
    "FROM (\n",
    "  SELECT\n",
    "    upper(trim(claim_id)) AS claim_id,\n",
    "    upper(trim(payer_id)) AS payer_id,\n",
    "    upper(trim(patient_id)) AS patient_id,\n",
    "    fn_to_date_safe(as_of_date) AS submission_date,\n",
    "    fn_to_ts_safe(as_of_date)   AS submission_ts,\n",
    "    fn_to_dec_safe(billed_amt)  AS total_charges,\n",
    "    fn_to_dec_safe(expected_amt) AS expected_amount,\n",
    "    CASE upper(trim(workqueue_status))\n",
    "      WHEN 'SUBMITTED' THEN 'Submitted'\n",
    "      WHEN 'RESUBMITTED' THEN 'Submitted'\n",
    "      WHEN 'IN WQ' THEN 'Pending'\n",
    "      WHEN 'PENDING REVIEW' THEN 'Pending'\n",
    "      WHEN 'DENIED' THEN 'Denied'\n",
    "      ELSE 'Pending'\n",
    "    END AS current_status,\n",
    "    fn_to_ts_safe(as_of_date)   AS current_status_ts,\n",
    "    CAST(NULL AS TIMESTAMP)     AS last_277ca_event_ts,\n",
    "    CAST(NULL AS TIMESTAMP)     AS last_835_event_ts,\n",
    "    dayofweek(fn_to_date_safe(as_of_date)) AS weekday_submitted,\n",
    "    CASE WHEN dayofweek(fn_to_date_safe(as_of_date)) IN (1,7) THEN true ELSE false END AS is_weekend_submission,\n",
    "    'EHR' AS source_system,\n",
    "    _ingest_ts, _ingest_file,\n",
    "    ROW_NUMBER() OVER (PARTITION BY upper(trim(claim_id))\n",
    "                       ORDER BY fn_to_ts_safe(as_of_date) DESC, _ingest_ts DESC) AS rn\n",
    "  FROM bronze.ehr_claims_raw\n",
    "  WHERE claim_id IS NOT NULL\n",
    "    AND fn_to_dec_safe(billed_amt) IS NOT NULL\n",
    "    AND fn_to_date_safe(as_of_date) IS NOT NULL\n",
    ")\n",
    "WHERE rn = 1;\n",
    "\n",
    "-- Type-1 merge; latest current_status_ts is primary winner, then _ingest_ts\n",
    "MERGE INTO silver.claim_headers t\n",
    "USING stg_ehr_claim_headers s\n",
    "ON t.claim_id = s.claim_id\n",
    "WHEN MATCHED AND\n",
    "     (s.current_status_ts >  t.current_status_ts OR\n",
    "     (s.current_status_ts = t.current_status_ts AND s._ingest_ts > t._ingest_ts))\n",
    "THEN UPDATE SET\n",
    "  t.payer_id = s.payer_id,\n",
    "  t.patient_id = s.patient_id,\n",
    "  t.submission_date = s.submission_date,\n",
    "  t.submission_ts = s.submission_ts,\n",
    "  t.total_charges = s.total_charges,\n",
    "  t.expected_amount = s.expected_amount,\n",
    "  t.current_status = s.current_status,\n",
    "  t.current_status_ts = s.current_status_ts,\n",
    "  t.weekday_submitted = s.weekday_submitted,\n",
    "  t.is_weekend_submission = s.is_weekend_submission,\n",
    "  t.source_system = s.source_system,\n",
    "  t._ingest_ts = s._ingest_ts,\n",
    "  t._ingest_file = s._ingest_file\n",
    "WHEN NOT MATCHED\n",
    "THEN INSERT *\n",
    ";"
   ]
  },
  {
   "cell_type": "code",
   "execution_count": 0,
   "metadata": {
    "application/vnd.databricks.v1+cell": {
     "cellMetadata": {},
     "inputWidgets": {},
     "nuid": "c61a79a4-55cc-4393-9947-c3b058f96a3a",
     "showTitle": false,
     "tableResultSettingsMap": {},
     "title": ""
    }
   },
   "outputs": [],
   "source": [
    "-- EHR to silver.claim_lines\n",
    "\n",
    "CREATE OR REPLACE TABLE silver.ehr_claim_lines_rejects AS\n",
    "SELECT *\n",
    "FROM bronze.ehr_claims_raw\n",
    "WHERE claim_id IS NULL\n",
    "  OR fn_to_dec_safe(billed_amt) IS NULL\n",
    "  OR fn_to_date_safe(as_of_date) IS NULL;\n",
    "\n",
    "-- Each EHR row becomes one line\n",
    "CREATE OR REPLACE TABLE silver.claim_lines AS\n",
    "SELECT \n",
    "  upper(trim(r.claim_id))                                      AS claim_id,\n",
    "  1                                                            AS line_number,\n",
    "  cast(NULL as string)                                         AS rev_code,\n",
    "  upper(trim(cpt))                                             AS hcpcs_cpt,\n",
    "  array()                                                      AS modifier_codes,\n",
    "  CAST(1 AS DECIMAL(18,2))                                     AS units,\n",
    "  fn_to_dec_safe(billed_amt)                                   AS line_charge,\n",
    "  NULL                                                         AS rendering_npi,\n",
    "  array(1)                                                     AS dx_pointer,\n",
    "  CASE WHEN fn_to_dec_safe(billed_amt) >= 5000 THEN true ELSE false END AS is_high_cost,\n",
    "  'EHR'                                                        AS source_system,\n",
    "  _ingest_ts,\n",
    "  _ingest_file\n",
    "FROM bronze.ehr_claims_raw r\n",
    "WHERE r.claim_id IS NOT NULL\n",
    "  AND fn_to_dec_safe(billed_amt) IS NOT NULL\n",
    "  AND fn_to_date_safe(as_of_date) IS NOT NULL;"
   ]
  }
 ],
 "metadata": {
  "application/vnd.databricks.v1+notebook": {
   "computePreferences": null,
   "dashboards": [],
   "environmentMetadata": {
    "base_environment": "",
    "environment_version": "3"
   },
   "inputWidgetPreferences": null,
   "language": "sql",
   "notebookMetadata": {
    "pythonIndentUnit": 4
   },
   "notebookName": "ehr_silver",
   "widgets": {}
  },
  "language_info": {
   "name": "sql"
  }
 },
 "nbformat": 4,
 "nbformat_minor": 0
}
