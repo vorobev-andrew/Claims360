{
 "cells": [
  {
   "cell_type": "code",
   "execution_count": 0,
   "metadata": {
    "application/vnd.databricks.v1+cell": {
     "cellMetadata": {
      "byteLimit": 2048000,
      "rowLimit": 10000
     },
     "inputWidgets": {},
     "nuid": "2e5b17a6-2f63-4e77-9801-2a4299f82359",
     "showTitle": false,
     "tableResultSettingsMap": {},
     "title": ""
    }
   },
   "outputs": [],
   "source": [
    "%run \n",
    "./_common_helpers"
   ]
  },
  {
   "cell_type": "markdown",
   "metadata": {
    "application/vnd.databricks.v1+cell": {
     "cellMetadata": {},
     "inputWidgets": {},
     "nuid": "54d51a5c-8596-464a-833d-339eac2f54ca",
     "showTitle": false,
     "tableResultSettingsMap": {},
     "title": ""
    }
   },
   "source": [
    "---\n",
    "### Purpose: ###  \n",
    "Feed raw 835 remittance bronze data into silver `payments_835_events` and `payments_835_by_claim` tables\n"
   ]
  },
  {
   "cell_type": "markdown",
   "metadata": {
    "application/vnd.databricks.v1+cell": {
     "cellMetadata": {},
     "inputWidgets": {},
     "nuid": "864860f2-b29d-4a96-906e-73964694ba59",
     "showTitle": false,
     "tableResultSettingsMap": {},
     "title": ""
    }
   },
   "source": [
    "---\n",
    "- Normalize types  \n",
    "- Join payer and denial reason dimensions for consistent naming and grouping  \n",
    "- Deduplicate payment events (keep latest by ingest timestamp / file)  \n",
    "- Bad rows missing `claim_id`, invalid `payment_date`, or non-numeric amounts go to the `payments_835_rejects` table  \n",
    "- Roll up payments by claim to provide quick join targets for EHR claim headers  \n",
    "---\n"
   ]
  },
  {
   "cell_type": "markdown",
   "metadata": {
    "application/vnd.databricks.v1+cell": {
     "cellMetadata": {},
     "inputWidgets": {},
     "nuid": "4c51f1c7-679d-4932-8272-ebb7c0f3537c",
     "showTitle": false,
     "tableResultSettingsMap": {},
     "title": ""
    }
   },
   "source": [
    "---\n",
    "### Assumes: ###  \n",
    "Each 835 payment row represents one claim-level remittance event (not line-item).  \n",
    "Future line-level 835 detail, if ingested, will remain compatible with the current structure.  "
   ]
  },
  {
   "cell_type": "code",
   "execution_count": 0,
   "metadata": {
    "application/vnd.databricks.v1+cell": {
     "cellMetadata": {
      "byteLimit": 2048000,
      "rowLimit": 10000
     },
     "inputWidgets": {},
     "nuid": "1f85be45-13fb-46f4-ba4e-ddd1265fbf17",
     "showTitle": false,
     "tableResultSettingsMap": {},
     "title": ""
    }
   },
   "outputs": [],
   "source": [
    "USE CATALOG claims360_dev;\n",
    "USE SCHEMA silver;\n",
    "-------------------------------------------------------------------------------\n",
    "--           1) Staging: typed, validated, dedup\n",
    "-------------------------------------------------------------------------------\n",
    "\n",
    "CREATE OR REPLACE TEMP VIEW stage_payments_835 AS\n",
    "WITH base AS (\n",
    "  SELECT\n",
    "    upper(trim(claim_id))                AS claim_id,\n",
    "    upper(trim(payer_id))                AS payer_id,\n",
    "    upper(trim(patient_id))              AS patient_id,\n",
    "    upper(trim(remit_id))                AS remit_id,\n",
    "    upper(trim(payer_control_number))    AS payer_control_number,\n",
    "    upper(trim(check_or_eft_trace))      AS check_or_eft_trace,\n",
    "    upper(trim(adjustment_reason_code))  AS adjustment_reason_code,\n",
    "    trim(payer_name)                     AS payer_name_raw,\n",
    "\n",
    "    -- Type conversions\n",
    "    silver.fn_to_ts_safe(payment_date)   AS payment_ts,   -- payment timestamp\n",
    "    silver.fn_to_date_safe(payment_date) AS payment_date, \n",
    "    silver.fn_to_date_safe(service_date) AS service_date,\n",
    "    silver.fn_to_dec_safe(payment_amount)     AS payment_amount,\n",
    "    silver.fn_to_dec_safe(adjustment_amount)  AS adjustment_amount,\n",
    "\n",
    "    -- Normalizations\n",
    "    CASE WHEN check_or_eft_trace LIKE 'EFT%' THEN 'EFT'\n",
    "         WHEN check_or_eft_trace IS NOT NULL THEN 'CHECK_OR_OTHER'\n",
    "         ELSE NULL END AS payment_method,\n",
    "\n",
    "    _ingest_ts, _ingest_file, _source_system\n",
    "  FROM bronze.payments_835_raw\n",
    "),\n",
    "filtered AS (\n",
    "  -- Keep only rows with a claim_id, parsable payment_date, and numeric payment_amount.\n",
    "  -- We’ll send the rest to rejects.\n",
    "  SELECT *\n",
    "  FROM base\n",
    "  WHERE claim_id IS NOT NULL\n",
    "    AND payment_date IS NOT NULL\n",
    "    AND payment_amount IS NOT NULL\n",
    "),\n",
    "enriched AS (\n",
    "  SELECT\n",
    "    f.*,\n",
    "    -- Join remit code map (category, notes desceription)\n",
    "    r.reason_category,\n",
    "    r.notes AS reason_desc,\n",
    "\n",
    "    -- Join payer dimension for canonical naming/grouping\n",
    "    p.payer_name       AS payer_name_dim,\n",
    "    p.payer_group      AS payer_group\n",
    "  FROM filtered f\n",
    "  LEFT JOIN dim_denial_reason_map r\n",
    "    ON upper(trim(r.code)) = f.adjustment_reason_code\n",
    "  LEFT JOIN dim_payer p\n",
    "    ON upper(trim(p.payer_id)) = f.payer_id\n",
    "), \n",
    "with_dedupe AS (\n",
    "  SELECT\n",
    "    e.*,\n",
    "    ROW_NUMBER() OVER (\n",
    "      PARTITION BY remit_id, claim_id, payment_date, payment_amount, adjustment_reason_code, check_or_eft_trace\n",
    "      ORDER BY _ingest_ts DESC, _ingest_file DESC\n",
    "    ) AS rn\n",
    "  FROM enriched e\n",
    ")\n",
    "SELECT *\n",
    "FROM with_dedupe\n",
    "WHERE rn = 1;\n"
   ]
  },
  {
   "cell_type": "code",
   "execution_count": 0,
   "metadata": {
    "application/vnd.databricks.v1+cell": {
     "cellMetadata": {
      "byteLimit": 2048000,
      "rowLimit": 10000
     },
     "inputWidgets": {},
     "nuid": "33964e92-490c-4f17-814e-f911ae41994a",
     "showTitle": false,
     "tableResultSettingsMap": {},
     "title": ""
    }
   },
   "outputs": [],
   "source": [
    "\n",
    "-------------------------------------------------------------------------------\n",
    "-- 2) Silver target: events table (SCD1)\n",
    "-------------------------------------------------------------------------------\n",
    "\n",
    "CREATE OR REPLACE TABLE silver.payments_835_events (\n",
    "  claim_id STRING NOT NULL,\n",
    "  patient_id STRING,\n",
    "  payer_id STRING,\n",
    "  payer_control_number STRING,\n",
    "  remit_id STRING,\n",
    "  check_or_eft_trace STRING,\n",
    "  payment_method STRING,             \n",
    "  payment_date DATE NOT NULL,\n",
    "  payment_ts TIMESTAMP NOT NULL,\n",
    "  service_date DATE,\n",
    "  payment_amount DECIMAL(18,2) NOT NULL,\n",
    "  adjustment_amount DECIMAL(18,2),    \n",
    "  reason_code STRING,\n",
    "  reason_category STRING,\n",
    "  reason_desc STRING,\n",
    "  payer_name STRING,                  \n",
    "  payer_group STRING,\n",
    "  source_system STRING,\n",
    "  _ingest_ts TIMESTAMP,\n",
    "  _ingest_file STRING,\n",
    "\n",
    "  -- Useful computed fields\n",
    "  net_effect DECIMAL(18,2),           -- payment + adjustment\n",
    "  is_debit BOOLEAN                   -- true when net_effect < 0\n",
    "\n",
    ")\n",
    "USING DELTA\n",
    "CLUSTER BY AUTO;"
   ]
  },
  {
   "cell_type": "code",
   "execution_count": 0,
   "metadata": {
    "application/vnd.databricks.v1+cell": {
     "cellMetadata": {
      "byteLimit": 2048000,
      "rowLimit": 10000
     },
     "inputWidgets": {},
     "nuid": "386d2d55-8f75-4325-9bbb-a043dcc4f95b",
     "showTitle": false,
     "tableResultSettingsMap": {},
     "title": ""
    }
   },
   "outputs": [],
   "source": [
    "-------------------------------------------------------------------------------\n",
    "-- 3) Type-1 upsert of events\n",
    "-------------------------------------------------------------------------------\n",
    "\n",
    "MERGE INTO silver.payments_835_events t\n",
    "USING (\n",
    "  SELECT\n",
    "    claim_id,\n",
    "    patient_id,\n",
    "    payer_id,\n",
    "    payer_control_number,\n",
    "    remit_id,\n",
    "    check_or_eft_trace,\n",
    "    payment_method,\n",
    "    payment_date,\n",
    "    payment_ts,\n",
    "    service_date,\n",
    "    payment_amount,\n",
    "    adjustment_amount,\n",
    "    adjustment_reason_code AS reason_code,\n",
    "    reason_category,\n",
    "    reason_desc,\n",
    "    COALESCE(payer_name_dim, initcap(payer_name_raw)) AS payer_name,\n",
    "    payer_group,\n",
    "    _source_system AS source_system,\n",
    "    _ingest_ts, _ingest_file,\n",
    "    (COALESCE(payment_amount, 0) + COALESCE(adjustment_amount, 0)) AS net_effect,\n",
    "    (COALESCE(payment_amount, 0) + COALESCE(adjustment_amount, 0)) < 0 AS is_debit\n",
    "  FROM stage_payments_835\n",
    ") s\n",
    "ON  t.remit_id             = s.remit_id\n",
    "AND t.claim_id             = s.claim_id\n",
    "AND t.payment_date         = s.payment_date\n",
    "AND t.payment_amount       = s.payment_amount\n",
    "AND t.reason_code          = s.reason_code\n",
    "AND t.check_or_eft_trace   = s.check_or_eft_trace\n",
    "WHEN MATCHED AND s._ingest_ts > t._ingest_ts THEN UPDATE SET *\n",
    "WHEN NOT MATCHED THEN INSERT *;"
   ]
  },
  {
   "cell_type": "code",
   "execution_count": 0,
   "metadata": {
    "application/vnd.databricks.v1+cell": {
     "cellMetadata": {
      "byteLimit": 2048000,
      "rowLimit": 10000
     },
     "inputWidgets": {},
     "nuid": "7c45cf99-fe16-4063-94a6-535b945dfb4d",
     "showTitle": false,
     "tableResultSettingsMap": {},
     "title": ""
    }
   },
   "outputs": [],
   "source": [
    "-------------------------------------------------------------------------------\n",
    "-- 4) Rejections (observability)\n",
    "-------------------------------------------------------------------------------\n",
    "\n",
    "CREATE OR REPLACE TABLE silver.payments_835_rejects AS\n",
    "SELECT\n",
    "  r.*,\n",
    "  CASE\n",
    "    WHEN claim_id IS NULL THEN 'MISSING_CLAIM_ID'\n",
    "    WHEN silver.fn_to_date_safe(payment_date) IS NULL THEN 'BAD_PAYMENT_DATE'\n",
    "    WHEN silver.fn_to_dec_safe(payment_amount) IS NULL THEN 'BAD_PAYMENT_AMOUNT'\n",
    "    ELSE 'OTHER'\n",
    "  END AS reject_reason\n",
    "FROM bronze.payments_835_raw r\n",
    "WHERE claim_id IS NULL\n",
    "   OR silver.fn_to_date_safe(payment_date) IS NULL\n",
    "   OR silver.fn_to_dec_safe(payment_amount) IS NULL;"
   ]
  },
  {
   "cell_type": "code",
   "execution_count": 0,
   "metadata": {
    "application/vnd.databricks.v1+cell": {
     "cellMetadata": {
      "byteLimit": 2048000,
      "rowLimit": 10000
     },
     "inputWidgets": {},
     "nuid": "e53ada60-d5a2-4c50-a924-7a4b0b3068b1",
     "showTitle": false,
     "tableResultSettingsMap": {},
     "title": ""
    }
   },
   "outputs": [],
   "source": [
    "-------------------------------------------------------------------------------\n",
    "-- 5) Rollup by claim: quick join target for EHR\n",
    "-------------------------------------------------------------------------------\n",
    "\n",
    "CREATE OR REPLACE TABLE silver.payments_835_by_claim AS\n",
    "SELECT\n",
    "  claim_id,\n",
    "  SUM(payment_amount)                                         AS paid_amount_to_date,\n",
    "  SUM(COALESCE(adjustment_amount, 0))                         AS adjustments_to_date,\n",
    "  SUM(COALESCE(payment_amount,0) + COALESCE(adjustment_amount,0)) AS net_paid_to_date,\n",
    "  MAX_BY(remit_id,           payment_ts)                      AS last_remit_id,\n",
    "  MAX_BY(check_or_eft_trace, payment_ts)                      AS last_trace,\n",
    "  MAX(payment_date)                                           AS last_payment_date,\n",
    "  MAX(payment_ts)                                             AS last_payment_ts,\n",
    "  COLLECT_SET(reason_code)                                    AS reason_codes_seen,\n",
    "  COUNT(*)                                                    AS payment_event_count\n",
    "FROM silver.payments_835_events\n",
    "GROUP BY claim_id;"
   ]
  },
  {
   "cell_type": "code",
   "execution_count": 0,
   "metadata": {
    "application/vnd.databricks.v1+cell": {
     "cellMetadata": {
      "byteLimit": 2048000,
      "rowLimit": 10000
     },
     "inputWidgets": {},
     "nuid": "5283cf6c-544a-4ec3-ac2a-3f336d746c01",
     "showTitle": false,
     "tableResultSettingsMap": {},
     "title": ""
    }
   },
   "outputs": [],
   "source": [
    "-------------------------------------------------------------------------------\n",
    "-- 6) Nudge EHR claim headers with the latest payment time\n",
    "-------------------------------------------------------------------------------\n",
    "\n",
    "MERGE INTO silver.claim_headers t\n",
    "USING (\n",
    "  SELECT claim_id, last_payment_ts\n",
    "  FROM silver.payments_835_by_claim\n",
    ") p\n",
    "ON t.claim_id = p.claim_id\n",
    "WHEN MATCHED AND (\n",
    "      t.last_835_event_ts IS NULL\n",
    "   OR p.last_payment_ts > t.last_835_event_ts\n",
    ") THEN UPDATE SET last_835_event_ts = p.last_payment_ts;"
   ]
  }
 ],
 "metadata": {
  "application/vnd.databricks.v1+notebook": {
   "computePreferences": null,
   "dashboards": [],
   "environmentMetadata": {
    "base_environment": "",
    "environment_version": "3"
   },
   "inputWidgetPreferences": null,
   "language": "sql",
   "notebookMetadata": {
    "pythonIndentUnit": 4
   },
   "notebookName": "payments_835_silver",
   "widgets": {}
  },
  "language_info": {
   "name": "sql"
  }
 },
 "nbformat": 4,
 "nbformat_minor": 0
}
