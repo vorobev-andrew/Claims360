{
 "cells": [
  {
   "cell_type": "markdown",
   "metadata": {
    "application/vnd.databricks.v1+cell": {
     "cellMetadata": {},
     "inputWidgets": {},
     "nuid": "96132ec9-96fe-4139-bdea-056e2ed2b68f",
     "showTitle": false,
     "tableResultSettingsMap": {},
     "title": ""
    }
   },
   "source": [
    "**Silver Curated Table**   \n",
    "Join silver tables and create the `silver_curated` table for convenience cross-source reference.\n",
    "---"
   ]
  },
  {
   "cell_type": "code",
   "execution_count": 0,
   "metadata": {
    "application/vnd.databricks.v1+cell": {
     "cellMetadata": {},
     "inputWidgets": {},
     "nuid": "12fc4aaf-b434-4ef1-b89e-595888a08187",
     "showTitle": false,
     "tableResultSettingsMap": {},
     "title": ""
    }
   },
   "outputs": [],
   "source": [
    "-- ===== 1) SILVER CURATED TABLE: join  tables for convenience cross-source =====\n",
    "USE CATALOG claims360_dev;\n",
    "CREATE SCHEMA IF NOT EXISTS silver_curated;\n",
    "\n",
    "CREATE OR REPLACE VIEW silver_curated.claims_current AS\n",
    "WITH latest_277 AS (\n",
    "  SELECT claim_id,\n",
    "         MAX(ack_event_ts)                             AS last_277_event_ts,\n",
    "         MAX_BY(status_code, ack_event_ts)             AS last_277_status_code,\n",
    "         COUNT(*)                                      AS ack_event_count\n",
    "  FROM silver.ack_277ca_events\n",
    "  GROUP BY claim_id\n",
    ")\n",
    "SELECT\n",
    "  ch.claim_id,\n",
    "  ch.payer_id, p.payer_name, p.payer_type,\n",
    "  ch.patient_id,\n",
    "  ch.submission_date, ch.submission_ts,\n",
    "  ch.total_charges, ch.expected_amount,\n",
    "  ch.current_status, ch.current_status_ts,\n",
    "  COALESCE(l277.last_277_event_ts, ch.last_277ca_event_ts)  AS last_277_event_ts,\n",
    "  l277.last_277_status_code, l277.ack_event_count,\n",
    "  COALESCE(pay.last_payment_ts, ch.last_835_event_ts)       AS last_835_event_ts,\n",
    "  pay.net_paid_to_date, pay.paid_amount_to_date, pay.adjustments_to_date,\n",
    "  pay.last_remit_id, pay.last_trace, pay.payment_event_count, pay.reason_codes_seen,\n",
    "  ch.weekday_submitted, ch.is_weekend_submission,\n",
    "  ch.source_system, ch._ingest_ts, ch._ingest_file,\n",
    "  (ch.total_charges - COALESCE(pay.net_paid_to_date,0))     AS current_balance,\n",
    "  DATEDIFF(current_date(), ch.submission_date)              AS days_since_submission\n",
    "FROM silver.claim_headers ch\n",
    "LEFT JOIN silver.dim_payer p                 ON p.payer_id = ch.payer_id\n",
    "LEFT JOIN latest_277 l277                    ON l277.claim_id = ch.claim_id\n",
    "LEFT JOIN silver.payments_835_by_claim pay   ON pay.claim_id = ch.claim_id;"
   ]
  }
 ],
 "metadata": {
  "application/vnd.databricks.v1+notebook": {
   "computePreferences": null,
   "dashboards": [],
   "environmentMetadata": {
    "base_environment": "",
    "environment_version": "3"
   },
   "inputWidgetPreferences": null,
   "language": "sql",
   "notebookMetadata": {
    "pythonIndentUnit": 4
   },
   "notebookName": "silver_curated",
   "widgets": {}
  },
  "language_info": {
   "name": "sql"
  }
 },
 "nbformat": 4,
 "nbformat_minor": 0
}
