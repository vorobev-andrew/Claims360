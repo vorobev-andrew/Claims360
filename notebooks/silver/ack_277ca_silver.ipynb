{
 "cells": [
  {
   "cell_type": "code",
   "execution_count": 0,
   "metadata": {
    "application/vnd.databricks.v1+cell": {
     "cellMetadata": {
      "byteLimit": 2048000,
      "rowLimit": 10000
     },
     "inputWidgets": {},
     "nuid": "c93bb82a-cccb-4b57-9273-d2a229833936",
     "showTitle": false,
     "tableResultSettingsMap": {},
     "title": ""
    }
   },
   "outputs": [],
   "source": [
    "%run\n",
    "./_common_helpers"
   ]
  },
  {
   "cell_type": "markdown",
   "metadata": {
    "application/vnd.databricks.v1+cell": {
     "cellMetadata": {},
     "inputWidgets": {},
     "nuid": "b3071a1f-4902-4be5-96ec-e4d022b9a260",
     "showTitle": false,
     "tableResultSettingsMap": {},
     "title": ""
    }
   },
   "source": [
    "---\n",
    "### Purpose: ###\n",
    "Refine Bronze `ack_277ca_raw` into Silver `ack_277ca_events` for analytics/ML and feed latest acknowledgement timestamp into `silver.claim_headers`."
   ]
  },
  {
   "cell_type": "markdown",
   "metadata": {
    "application/vnd.databricks.v1+cell": {
     "cellMetadata": {},
     "inputWidgets": {},
     "nuid": "2e6c500a-46d5-482a-a517-10ce03a99337",
     "showTitle": false,
     "tableResultSettingsMap": {},
     "title": ""
    }
   },
   "source": [
    "---\n",
    "### Notes: ###\n",
    "- Normalize identifiers, parse timestamps, drop noise columns.\n",
    "- Deduplicate on `ack_id` keeping the most recent `_ingest_ts`.\n",
    "- Natural keys we keep: `ack_id`, `claim_id`, `trace_number`.\n",
    "- Enrichment: coalesce payer attributes from `silver.dim_payer`."
   ]
  },
  {
   "cell_type": "code",
   "execution_count": 0,
   "metadata": {
    "application/vnd.databricks.v1+cell": {
     "cellMetadata": {
      "byteLimit": 2048000,
      "rowLimit": 10000
     },
     "inputWidgets": {},
     "nuid": "09c2d7eb-5582-453e-bd77-14319db222d8",
     "showTitle": false,
     "tableResultSettingsMap": {},
     "title": ""
    }
   },
   "outputs": [],
   "source": [
    "-- ===== 1) STAGING VIEW: typed, filtered, deduped =====\n",
    "CREATE OR REPLACE TEMP VIEW stage_ack_277ca AS\n",
    "WITH base AS (\n",
    "  SELECT\n",
    "      upper(trim(ack_id))                     AS ack_id,\n",
    "      upper(trim(claim_id))                   AS claim_id,\n",
    "      silver.fn_to_ts_safe(event_time)        AS ack_event_ts,\n",
    "      upper(trim(functional_group_id))        AS functional_group_id,\n",
    "      upper(trim(interchange_control_number)) AS interchange_control_number,\n",
    "      upper(trim(payer_id))                   AS payer_id,\n",
    "      /* keep friendly names; normalize empty to NULL */\n",
    "      nullif(trim(payer_name), '')            AS payer_name,\n",
    "      upper(trim(patient_id))                 AS patient_id,\n",
    "      upper(trim(provider_tin))               AS provider_tin,\n",
    "      upper(trim(status_code))                AS status_code,\n",
    "      nullif(trim(status_description), '')    AS status_description,\n",
    "      upper(trim(trace_number))               AS trace_number,\n",
    "      '277CA'                                 AS source_system,\n",
    "      _ingest_ts, ingest_id\n",
    "  FROM claims360_dev.bronze.ack_277ca_raw\n",
    "),\n",
    "filtered AS (\n",
    "  -- Exclude obviously bad rows.\n",
    "  SELECT *\n",
    "  FROM base\n",
    "  WHERE ack_id   IS NOT NULL\n",
    "    AND claim_id IS NOT NULL\n",
    "    AND ack_event_ts IS NOT NULL\n",
    "),\n",
    "deduped AS (\n",
    "  SELECT\n",
    "      ack_id, claim_id, ack_event_ts, functional_group_id,\n",
    "      interchange_control_number, payer_id, payer_name, patient_id,\n",
    "      provider_tin, status_code, status_description, trace_number,\n",
    "      source_system, _ingest_ts, ingest_id\n",
    "  FROM filtered\n",
    "  QUALIFY ROW_NUMBER() OVER (PARTITION BY ack_id ORDER BY _ingest_ts DESC) = 1\n",
    "),\n",
    "enriched AS (\n",
    "  -- Optional/light: backfill payer_name/group from dim if available.\n",
    "  SELECT\n",
    "      d.ack_id,\n",
    "      d.claim_id,\n",
    "      d.ack_event_ts,\n",
    "      d.functional_group_id,\n",
    "      d.interchange_control_number,\n",
    "      d.payer_id,\n",
    "      COALESCE(d.payer_name, p.payer_name)   AS payer_name,\n",
    "      p.payer_group                          AS payer_group,\n",
    "      d.patient_id,\n",
    "      d.provider_tin,\n",
    "      d.status_code,\n",
    "      d.status_description,\n",
    "      d.trace_number,\n",
    "      d.source_system,\n",
    "      d._ingest_ts,\n",
    "      d.ingest_id\n",
    "  FROM deduped d\n",
    "  LEFT JOIN claims360_dev.silver.dim_payer p\n",
    "    ON d.payer_id = p.payer_id\n",
    ")\n",
    "SELECT * FROM enriched\n",
    ";"
   ]
  },
  {
   "cell_type": "code",
   "execution_count": 0,
   "metadata": {
    "application/vnd.databricks.v1+cell": {
     "cellMetadata": {
      "byteLimit": 2048000,
      "rowLimit": 10000
     },
     "inputWidgets": {},
     "nuid": "85ae34d9-47a3-4c92-86bd-ecdce0011c9d",
     "showTitle": false,
     "tableResultSettingsMap": {},
     "title": ""
    }
   },
   "outputs": [],
   "source": [
    "-- ===== 2) CREATE TARGET TABLE AND MERGE: SCD1 =====\n",
    "CREATE TABLE IF NOT EXISTS claims360_dev.silver.ack_277ca_events (\n",
    "  ack_id                         STRING NOT NULL,\n",
    "  claim_id                       STRING NOT NULL,\n",
    "  ack_event_ts                   TIMESTAMP,\n",
    "  functional_group_id            STRING,\n",
    "  interchange_control_number     STRING,\n",
    "  payer_id                       STRING,\n",
    "  payer_name                     STRING,\n",
    "  payer_group                    STRING,\n",
    "  patient_id                     STRING,\n",
    "  provider_tin                   STRING,\n",
    "  status_code                    STRING,\n",
    "  status_description             STRING,\n",
    "  trace_number                   STRING,\n",
    "  source_system                  STRING,\n",
    "  _ingest_ts                     TIMESTAMP,\n",
    "  ingest_id                      STRING\n",
    ")\n",
    "USING DELTA\n",
    "CLUSTER BY (claim_id)\n",
    "TBLPROPERTIES (\n",
    "  delta.appendOnly = 'false'\n",
    ");\n",
    "\n",
    "MERGE INTO claims360_dev.silver.ack_277ca_events AS t\n",
    "USING stage_ack_277ca AS s\n",
    "ON t.ack_id = s.ack_id\n",
    "WHEN MATCHED AND s._ingest_ts > t._ingest_ts THEN UPDATE SET\n",
    "  t.claim_id                   = s.claim_id,\n",
    "  t.ack_event_ts               = s.ack_event_ts,\n",
    "  t.functional_group_id        = s.functional_group_id,\n",
    "  t.interchange_control_number = s.interchange_control_number,\n",
    "  t.payer_id                   = s.payer_id,\n",
    "  t.payer_name                 = s.payer_name,\n",
    "  t.payer_group                = s.payer_group,\n",
    "  t.patient_id                 = s.patient_id,\n",
    "  t.provider_tin               = s.provider_tin,\n",
    "  t.status_code                = s.status_code,\n",
    "  t.status_description         = s.status_description,\n",
    "  t.trace_number               = s.trace_number,\n",
    "  t.source_system              = s.source_system,\n",
    "  t._ingest_ts                 = s._ingest_ts,\n",
    "  t.ingest_id                  = s.ingest_id\n",
    "WHEN NOT MATCHED THEN INSERT (\n",
    "  ack_id, claim_id, ack_event_ts, functional_group_id, interchange_control_number,\n",
    "  payer_id, payer_name, payer_group, patient_id, provider_tin,\n",
    "  status_code, status_description, trace_number, source_system, _ingest_ts, ingest_id\n",
    ") VALUES (\n",
    "  s.ack_id, s.claim_id, s.ack_event_ts, s.functional_group_id, s.interchange_control_number,\n",
    "  s.payer_id, s.payer_name, s.payer_group, s.patient_id, s.provider_tin,\n",
    "  s.status_code, s.status_description, s.trace_number, s.source_system, s._ingest_ts, s.ingest_id\n",
    ");"
   ]
  },
  {
   "cell_type": "code",
   "execution_count": 0,
   "metadata": {
    "application/vnd.databricks.v1+cell": {
     "cellMetadata": {
      "byteLimit": 2048000,
      "rowLimit": 10000
     },
     "inputWidgets": {},
     "nuid": "4df8992e-27e3-4167-a749-a7306a5c3b04",
     "showTitle": false,
     "tableResultSettingsMap": {},
     "title": ""
    }
   },
   "outputs": [],
   "source": [
    "-- ===== 3) UPDATE CLAIM HEADERS: with most recent ack event ts =====\n",
    "\n",
    "MERGE INTO silver.claim_headers t\n",
    "USING (\n",
    "  SELECT\n",
    "      claim_id,\n",
    "      MAX(ack_event_ts) AS ack_event_ts       -- latest per claim\n",
    "  FROM silver.ack_277ca_events\n",
    "  GROUP BY claim_id\n",
    ") s\n",
    "ON t.claim_id = s.claim_id\n",
    "WHEN MATCHED AND (\n",
    "     t.last_277ca_event_ts IS NULL\n",
    "  OR s.ack_event_ts > t.last_277ca_event_ts\n",
    ")\n",
    "THEN UPDATE SET t.last_277ca_event_ts = s.ack_event_ts;  "
   ]
  },
  {
   "cell_type": "code",
   "execution_count": 0,
   "metadata": {
    "application/vnd.databricks.v1+cell": {
     "cellMetadata": {
      "byteLimit": 2048000,
      "rowLimit": 10000
     },
     "inputWidgets": {},
     "nuid": "5782291c-1bd9-45f0-82ea-b4ad1fbfe8d8",
     "showTitle": false,
     "tableResultSettingsMap": {},
     "title": ""
    }
   },
   "outputs": [],
   "source": [
    "-- ===== 4) CREATE REJECTION TABLE: using idempotency key and merge =====\n",
    "CREATE TABLE IF NOT EXISTS claims360_dev.silver.ack_277ca_rejects (\n",
    "  reject_key     STRING  NOT NULL,   -- idempotency key\n",
    "  ack_id         STRING,\n",
    "  claim_id       STRING,\n",
    "  raw_event_time STRING,\n",
    "  reason         STRING  NOT NULL,\n",
    "  _ingest_ts     TIMESTAMP,\n",
    "  _ingest_file   STRING,\n",
    "  source_system  STRING\n",
    ")\n",
    "USING DELTA\n",
    "TBLPROPERTIES (delta.appendOnly = 'true');\n",
    "\n",
    "MERGE INTO claims360_dev.silver.ack_277ca_rejects AS t\n",
    "USING (\n",
    "  WITH typed AS (\n",
    "    SELECT\n",
    "      upper(trim(ack_id))   AS ack_id_u,\n",
    "      upper(trim(claim_id)) AS claim_id_u,\n",
    "      event_time            AS raw_event_time,\n",
    "      silver.fn_to_ts_safe(event_time) AS _evt_ts,\n",
    "      _ingest_ts, _ingest_file, _source_system\n",
    "    FROM claims360_dev.bronze.ack_277ca_raw\n",
    "  ),\n",
    "  failed AS (\n",
    "    SELECT\n",
    "      ack_id_u,\n",
    "      claim_id_u,\n",
    "      raw_event_time,\n",
    "      CASE\n",
    "        WHEN ack_id_u IS NULL OR claim_id_u IS NULL THEN 'MISSING_ACK_OR_CLAIM_ID'\n",
    "        WHEN _evt_ts IS NULL                       THEN 'BAD_EVENT_TIME'\n",
    "        ELSE 'OTHER'\n",
    "      END AS reason,\n",
    "      _ingest_ts, _ingest_file, _source_system\n",
    "    FROM typed\n",
    "    WHERE (ack_id_u IS NULL OR claim_id_u IS NULL) OR _evt_ts IS NULL\n",
    "  )\n",
    "  SELECT\n",
    "    /* idempotent key */\n",
    "    concat_ws('|',\n",
    "      coalesce(ack_id_u,'<NULL_ACK>'),\n",
    "      coalesce(claim_id_u,'<NULL_CLAIM>'),\n",
    "      coalesce(_ingest_file,''),\n",
    "      coalesce(reason,'')\n",
    "    )                   AS reject_key,\n",
    "    ack_id_u            AS ack_id,\n",
    "    claim_id_u          AS claim_id,\n",
    "    raw_event_time,\n",
    "    reason,\n",
    "    _ig._ingest_ts      AS _ingest_ts,\n",
    "    _ig._ingest_file    AS _ingest_file,\n",
    "    _ig._source_system  AS source_system\n",
    "  FROM failed _ig\n",
    ") AS s\n",
    "ON t.reject_key = s.reject_key\n",
    "WHEN NOT MATCHED THEN INSERT (\n",
    "  reject_key, ack_id, claim_id, raw_event_time, reason, _ingest_ts, _ingest_file, source_system\n",
    ") VALUES (\n",
    "  s.reject_key, s.ack_id, s.claim_id, s.raw_event_time, s.reason, s._ingest_ts, s._ingest_file, s.source_system\n",
    ");"
   ]
  }
 ],
 "metadata": {
  "application/vnd.databricks.v1+notebook": {
   "computePreferences": null,
   "dashboards": [],
   "environmentMetadata": {
    "base_environment": "",
    "environment_version": "3"
   },
   "inputWidgetPreferences": null,
   "language": "sql",
   "notebookMetadata": {
    "pythonIndentUnit": 4
   },
   "notebookName": "ack_277ca_silver",
   "widgets": {}
  },
  "language_info": {
   "name": "sql"
  }
 },
 "nbformat": 4,
 "nbformat_minor": 0
}
