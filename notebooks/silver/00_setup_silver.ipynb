{
 "cells": [
  {
   "cell_type": "code",
   "execution_count": 0,
   "metadata": {
    "application/vnd.databricks.v1+cell": {
     "cellMetadata": {
      "byteLimit": 2048000,
      "implicitDf": true,
      "rowLimit": 10000
     },
     "inputWidgets": {},
     "nuid": "56ce6111-a1af-4fa1-8e8d-eb8a50017954",
     "showTitle": false,
     "tableResultSettingsMap": {},
     "title": ""
    }
   },
   "outputs": [],
   "source": [
    "%sql\n",
    "\n",
    "USE CATALOG claims360_dev;\n",
    "\n",
    "CREATE OR REPLACE TABLE silver.claim_headers\n",
    "COMMENT 'Clean, deduped claim-level facts; service/submission dates, payer/provider, current status';\n",
    "\n",
    "CREATE OR REPLACE TABLE silver.claim_lines\n",
    "COMMENT 'One row per line; normalized codes';\n",
    "\n",
    "CREATE OR REPLACE TABLE silver.ack_277ca_events\n",
    "COMMENT 'Standardized ack events; streaming-friendly for alerts';\n",
    "\n",
    "CREATE OR REPLACE TABLE silver.payments_835\n",
    "COMMENT 'Normalized remits; CARC/RARC mapped';\n",
    "\n",
    "CREATE OR REPLACE TABLE silver.conformed_claims\n",
    "COMMENT 'Conformed claims';"
   ]
  }
 ],
 "metadata": {
  "application/vnd.databricks.v1+notebook": {
   "computePreferences": null,
   "dashboards": [],
   "environmentMetadata": {
    "base_environment": "",
    "environment_version": "3"
   },
   "inputWidgetPreferences": null,
   "language": "python",
   "notebookMetadata": {
    "mostRecentlyExecutedCommandWithImplicitDF": {
     "commandId": 5600597778097467,
     "dataframes": [
      "_sqldf"
     ]
    },
    "pythonIndentUnit": 4
   },
   "notebookName": "00_setup_silver",
   "widgets": {}
  },
  "language_info": {
   "name": "python"
  }
 },
 "nbformat": 4,
 "nbformat_minor": 0
}
