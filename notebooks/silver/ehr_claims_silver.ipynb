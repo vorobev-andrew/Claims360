{
 "cells": [
  {
   "cell_type": "code",
   "execution_count": 0,
   "metadata": {
    "application/vnd.databricks.v1+cell": {
     "cellMetadata": {
      "byteLimit": 2048000,
      "rowLimit": 10000
     },
     "inputWidgets": {},
     "nuid": "fb12e1ed-0553-4006-96ff-f851c507560c",
     "showTitle": false,
     "tableResultSettingsMap": {},
     "title": ""
    }
   },
   "outputs": [],
   "source": [
    "%run\n",
    "./_common_helpers"
   ]
  },
  {
   "cell_type": "markdown",
   "metadata": {
    "application/vnd.databricks.v1+cell": {
     "cellMetadata": {
      "byteLimit": 2048000,
      "rowLimit": 10000
     },
     "inputWidgets": {},
     "nuid": "e74c1f1a-6e19-46e3-a35d-a2d7c5b7d4db",
     "showTitle": false,
     "tableResultSettingsMap": {},
     "title": ""
    }
   },
   "source": [
    "---\n",
    "### Purpose: ###  \n",
    "Feed raw EHR bronze data into silver `claim_headers`, `claim_lines` tables\n"
   ]
  },
  {
   "cell_type": "markdown",
   "metadata": {
    "application/vnd.databricks.v1+cell": {
     "cellMetadata": {
      "byteLimit": 2048000,
      "rowLimit": 10000
     },
     "inputWidgets": {},
     "nuid": "2ed2e773-e5a4-4afa-91b8-2c15462de7fd",
     "showTitle": false,
     "tableResultSettingsMap": {},
     "title": ""
    }
   },
   "source": [
    "---\n",
    "- Normalize types\n",
    "- Map EHR `workqueue_status` -> claim `current_status`\n",
    "- Treat each EHR row as one line; if later on you ingest line-item detail it will remain compatible.\n",
    "- Bad rows missing `claim_id`, bad money/date go to the `_rejects` table\n",
    "---"
   ]
  },
  {
   "cell_type": "markdown",
   "metadata": {
    "application/vnd.databricks.v1+cell": {
     "cellMetadata": {
      "byteLimit": 2048000,
      "rowLimit": 10000
     },
     "inputWidgets": {},
     "nuid": "860f2853-87a3-4295-afb3-abca22e88670",
     "showTitle": false,
     "tableResultSettingsMap": {},
     "title": ""
    }
   },
   "source": [
    "---\n",
    "### Assumes: ###  \n",
    "`as_of_date` is the claim submission snapshot date from the EHR. "
   ]
  },
  {
   "cell_type": "code",
   "execution_count": 0,
   "metadata": {
    "application/vnd.databricks.v1+cell": {
     "cellMetadata": {
      "byteLimit": 2048000,
      "rowLimit": 10000
     },
     "collapsed": true,
     "inputWidgets": {},
     "nuid": "89ae5bf6-bd48-47c1-95dd-559ea07d12f1",
     "showTitle": false,
     "tableResultSettingsMap": {},
     "title": ""
    }
   },
   "outputs": [],
   "source": [
    "------------ EHR staging layer (typed, validated, dedup) ----------\n",
    "CREATE OR REPLACE TEMP VIEW stage_claim_headers AS\n",
    "WITH base AS (\n",
    "  SELECT\n",
    "    upper(trim(claim_id))   AS claim_id,\n",
    "    upper(trim(payer_id))   AS payer_id,\n",
    "    upper(trim(patient_id)) AS patient_id,\n",
    "    silver.fn_to_date_safe(as_of_date)  AS submission_date,\n",
    "    silver.fn_to_ts_safe(as_of_date)    AS submission_ts,\n",
    "    silver.fn_to_dec_safe(billed_amt)   AS total_charges,\n",
    "    silver.fn_to_dec_safe(expected_amt) AS expected_amount,\n",
    "    upper(trim(workqueue_status)) AS wq_status,\n",
    "    _ingest_ts, _ingest_file\n",
    "  FROM bronze.ehr_claims_raw\n",
    "  WHERE claim_id IS NOT NULL\n",
    "    AND silver.fn_to_dec_safe(billed_amt) IS NOT NULL\n",
    "    AND silver.fn_to_date_safe(as_of_date) IS NOT NULL\n",
    ")\n",
    "SELECT\n",
    "  claim_id, payer_id, patient_id,\n",
    "  submission_date, submission_ts,\n",
    "  total_charges, expected_amount,\n",
    "  CASE\n",
    "    WHEN wq_status IN ('SUBMITTED','RESUBMITTED') THEN 'Submitted'\n",
    "    WHEN wq_status IN ('IN WQ','PENDING REVIEW')  THEN 'Pending'\n",
    "    WHEN wq_status = 'DENIED'                     THEN 'Denied'\n",
    "    ELSE 'Pending'\n",
    "  END AS current_status,\n",
    "  submission_ts AS current_status_ts,\n",
    "  CAST(NULL AS TIMESTAMP) AS last_277ca_event_ts,\n",
    "  CAST(NULL AS TIMESTAMP) AS last_835_event_ts,\n",
    "  dayofweek(submission_date) AS weekday_submitted,\n",
    "  dayofweek(submission_date) IN (1,7) AS is_weekend_submission,\n",
    "  'EHR' AS source_system,\n",
    "  _ingest_ts, _ingest_file,\n",
    "  ROW_NUMBER() OVER (PARTITION BY claim_id ORDER BY submission_ts DESC, _ingest_ts DESC) AS rn\n",
    "FROM base\n",
    "QUALIFY rn = 1;"
   ]
  },
  {
   "cell_type": "code",
   "execution_count": 0,
   "metadata": {
    "application/vnd.databricks.v1+cell": {
     "cellMetadata": {
      "byteLimit": 2048000,
      "rowLimit": 10000
     },
     "collapsed": true,
     "inputWidgets": {},
     "nuid": "3a12874f-dc80-4146-aebf-e5a232413219",
     "showTitle": false,
     "tableResultSettingsMap": {},
     "title": ""
    }
   },
   "outputs": [],
   "source": [
    "------------ Target table for claim headers (SCD1 current view) ----------\n",
    "CREATE OR REPLACE TABLE silver.claim_headers (\n",
    "  claim_id STRING NOT NULL,\n",
    "  payer_id STRING,\n",
    "  patient_id STRING,\n",
    "  submission_date DATE,\n",
    "  submission_ts TIMESTAMP,\n",
    "  total_charges DECIMAL(18,2),\n",
    "  expected_amount DECIMAL(18,2),\n",
    "  current_status STRING,\n",
    "  current_status_ts TIMESTAMP,\n",
    "  last_277ca_event_ts TIMESTAMP,\n",
    "  last_835_event_ts TIMESTAMP,\n",
    "  weekday_submitted INT,\n",
    "  is_weekend_submission BOOLEAN,\n",
    "  source_system STRING,\n",
    "  _ingest_ts TIMESTAMP,\n",
    "  _ingest_file STRING,\n",
    "  CONSTRAINT submission_date_nn EXPECT (submission_date IS NOT NULL) ON VIOLATION DROP ROW,\n",
    "  CONSTRAINT amounts_non_negative EXPECT ( (total_charges IS NULL OR total_charges >= 0) AND expected_amount >= 0 ),\n",
    "  CONSTRAINT expected_amount_nn EXPECT (expected_amount IS NOT NULL) ON VIOLATION DROP ROW,\n",
    "  CONSTRAINT check_current_status EXPECT (upper(current_status) IN ('SUBMITTED','PENDING','DENIED')),\n",
    "  CONSTRAINT source_is_ehr EXPECT (source_system = 'EHR')\n",
    ")\n",
    "USING DELTA\n",
    "CLUSTER BY (claim_id);\n",
    "\n",
    "------------ Type-1 upsert (latest wins by current_status_ts, then _ingest_ts) ----------\n",
    "MERGE INTO silver.claim_headers t\n",
    "USING stage_claim_headers s\n",
    "ON t.claim_id = s.claim_id\n",
    "WHEN MATCHED AND (\n",
    "      s.current_status_ts >  t.current_status_ts\n",
    "   OR (s.current_status_ts = t.current_status_ts AND s._ingest_ts > t._ingest_ts)\n",
    ") THEN UPDATE SET *\n",
    "WHEN NOT MATCHED THEN INSERT *;"
   ]
  },
  {
   "cell_type": "code",
   "execution_count": 0,
   "metadata": {
    "application/vnd.databricks.v1+cell": {
     "cellMetadata": {
      "byteLimit": 2048000,
      "rowLimit": 10000
     },
     "collapsed": true,
     "inputWidgets": {},
     "nuid": "f41efb4e-39e6-4752-94c8-1e135ae023c0",
     "showTitle": false,
     "tableResultSettingsMap": {},
     "title": ""
    }
   },
   "outputs": [],
   "source": [
    "------------ Rejections for observability ----------\n",
    "CREATE OR REPLACE TABLE silver.ehr_claims_rejects AS\n",
    "SELECT\n",
    "  r.*,\n",
    "  CASE\n",
    "    WHEN claim_id IS NULL THEN 'MISSING_CLAIM_ID'\n",
    "    WHEN silver.fn_to_dec_safe(billed_amt) IS NULL THEN 'BAD_BILLED_AMT'\n",
    "    WHEN silver.fn_to_dec_safe(expected_amt) IS NULL THEN 'BAD_EXPECTED_AMT'\n",
    "    WHEN silver.fn_to_date_safe(as_of_date) IS NULL THEN 'BAD_DATE'\n",
    "    ELSE 'OTHER'\n",
    "  END AS reject_reason\n",
    "FROM bronze.ehr_claims_raw r\n",
    "WHERE claim_id IS NULL\n",
    "   OR silver.fn_to_dec_safe(billed_amt) IS NULL\n",
    "   OR silver.fn_to_dec_safe(expected_amt) IS NULL\n",
    "   OR silver.fn_to_date_safe(as_of_date) IS NULL;"
   ]
  },
  {
   "cell_type": "code",
   "execution_count": 0,
   "metadata": {
    "application/vnd.databricks.v1+cell": {
     "cellMetadata": {
      "byteLimit": 2048000,
      "rowLimit": 10000
     },
     "collapsed": true,
     "inputWidgets": {},
     "nuid": "c61a79a4-55cc-4393-9947-c3b058f96a3a",
     "showTitle": false,
     "tableResultSettingsMap": {},
     "title": ""
    }
   },
   "outputs": [],
   "source": [
    "------------ Claim lines (one line per EHR row) ----------\n",
    "CREATE OR REPLACE TABLE silver.claim_lines AS\n",
    "SELECT \n",
    "  upper(trim(r.claim_id))          AS claim_id,\n",
    "  1                                AS line_number,\n",
    "  CAST(NULL as STRING)             AS rev_code,\n",
    "  upper(trim(cpt))                 AS hcpcs_cpt,\n",
    "  CAST(array() AS ARRAY<STRING>)   AS modifier_codes,\n",
    "  CAST(1 AS DECIMAL(18,2))         AS units,\n",
    "  silver.fn_to_dec_safe(billed_amt)AS line_charge,\n",
    "  CAST(NULL AS STRING)             AS rendering_npi,\n",
    "  CAST(array(1) AS ARRAY<INT>)     AS dx_pointer,\n",
    "  (silver.fn_to_dec_safe(billed_amt) >= 5000) AS is_high_cost,\n",
    "  'EHR'                            AS source_system,\n",
    "  _ingest_ts, _ingest_file\n",
    "FROM bronze.ehr_claims_raw r\n",
    "WHERE r.claim_id IS NOT NULL\n",
    "  AND silver.fn_to_dec_safe(billed_amt) IS NOT NULL\n",
    "  AND silver.fn_to_date_safe(as_of_date) IS NOT NULL;"
   ]
  }
 ],
 "metadata": {
  "application/vnd.databricks.v1+notebook": {
   "computePreferences": null,
   "dashboards": [],
   "environmentMetadata": {
    "base_environment": "",
    "environment_version": "3"
   },
   "inputWidgetPreferences": null,
   "language": "sql",
   "notebookMetadata": {
    "pythonIndentUnit": 4
   },
   "notebookName": "ehr_claims_silver",
   "widgets": {}
  },
  "language_info": {
   "name": "sql"
  }
 },
 "nbformat": 4,
 "nbformat_minor": 0
}
