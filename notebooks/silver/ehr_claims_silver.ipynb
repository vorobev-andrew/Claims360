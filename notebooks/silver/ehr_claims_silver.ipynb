{
 "cells": [
  {
   "cell_type": "code",
   "execution_count": 0,
   "metadata": {
    "application/vnd.databricks.v1+cell": {
     "cellMetadata": {
      "byteLimit": 2048000,
      "rowLimit": 10000
     },
     "inputWidgets": {},
     "nuid": "fb12e1ed-0553-4006-96ff-f851c507560c",
     "showTitle": false,
     "tableResultSettingsMap": {},
     "title": ""
    }
   },
   "outputs": [],
   "source": [
    "%run\n",
    "./_common_helpers"
   ]
  },
  {
   "cell_type": "markdown",
   "metadata": {
    "application/vnd.databricks.v1+cell": {
     "cellMetadata": {
      "byteLimit": 2048000,
      "rowLimit": 10000
     },
     "inputWidgets": {},
     "nuid": "e74c1f1a-6e19-46e3-a35d-a2d7c5b7d4db",
     "showTitle": false,
     "tableResultSettingsMap": {},
     "title": ""
    }
   },
   "source": [
    "---\n",
    "### Purpose: ###  \n",
    "Feed raw EHR bronze data into silver `claim_headers`, `claim_lines` tables.\n"
   ]
  },
  {
   "cell_type": "markdown",
   "metadata": {
    "application/vnd.databricks.v1+cell": {
     "cellMetadata": {
      "byteLimit": 2048000,
      "rowLimit": 10000
     },
     "inputWidgets": {},
     "nuid": "2ed2e773-e5a4-4afa-91b8-2c15462de7fd",
     "showTitle": false,
     "tableResultSettingsMap": {},
     "title": ""
    }
   },
   "source": [
    "---\n",
    "- Normalize identifiers, parse timestamps, drop noise columns.\n",
    "- Map EHR `workqueue_status` -> claim `current_status`.\n",
    "- Treat each EHR row as one line; if later on you ingest line-item detail it will remain compatible.\n",
    "- Bad rows missing `claim_id`, bad money/date go to the `_rejects` table.\n",
    "---"
   ]
  },
  {
   "cell_type": "markdown",
   "metadata": {
    "application/vnd.databricks.v1+cell": {
     "cellMetadata": {
      "byteLimit": 2048000,
      "rowLimit": 10000
     },
     "inputWidgets": {},
     "nuid": "860f2853-87a3-4295-afb3-abca22e88670",
     "showTitle": false,
     "tableResultSettingsMap": {},
     "title": ""
    }
   },
   "source": [
    "---\n",
    "### Assumes: ###  \n",
    "`as_of_date` is the claim submission snapshot date from the EHR. "
   ]
  },
  {
   "cell_type": "code",
   "execution_count": 0,
   "metadata": {
    "application/vnd.databricks.v1+cell": {
     "cellMetadata": {
      "byteLimit": 2048000,
      "rowLimit": 10000
     },
     "inputWidgets": {},
     "nuid": "0fb48051-541c-410a-bcac-793f56f5be62",
     "showTitle": false,
     "tableResultSettingsMap": {},
     "title": ""
    }
   },
   "outputs": [],
   "source": [
    "USE CATALOG claims360_dev;\n",
    "USE SCHEMA silver;\n",
    "-- ===== 1) COMMON FILTERED BASE: only good rows make past, rest in rejects =====\n",
    "\n",
    "CREATE OR REPLACE TEMP VIEW stage_ehr_filtered AS\n",
    "WITH src AS (\n",
    "  SELECT\n",
    "    r.*,\n",
    "    silver.fn_to_date_safe(as_of_date)      AS _submission_date,\n",
    "    silver.fn_to_ts_safe(as_of_date)        AS _submission_ts,\n",
    "    silver.fn_to_dec_safe(billed_amt)       AS _total_charges,\n",
    "    silver.fn_to_dec_safe(expected_amt)     AS _expected_amount,\n",
    "    upper(trim(workqueue_status))           AS _wq_status\n",
    "  FROM bronze.ehr_claims_raw r\n",
    ")\n",
    "SELECT\n",
    "  *\n",
    "FROM src\n",
    "WHERE claim_id IS NOT NULL\n",
    "  AND _total_charges IS NOT NULL\n",
    "  AND _expected_amount IS NOT NULL\n",
    "  AND _submission_date IS NOT NULL;"
   ]
  },
  {
   "cell_type": "code",
   "execution_count": 0,
   "metadata": {
    "application/vnd.databricks.v1+cell": {
     "cellMetadata": {
      "byteLimit": 2048000,
      "rowLimit": 10000
     },
     "inputWidgets": {},
     "nuid": "89ae5bf6-bd48-47c1-95dd-559ea07d12f1",
     "showTitle": false,
     "tableResultSettingsMap": {},
     "title": ""
    }
   },
   "outputs": [],
   "source": [
    "-- ===== 2) STAGING VIEW: typed, filtered, deduped =====\n",
    "\n",
    "CREATE OR REPLACE TEMP VIEW stage_claim_headers AS\n",
    "WITH base AS (\n",
    "  SELECT\n",
    "    upper(trim(claim_id))   AS claim_id,\n",
    "    upper(trim(payer_id))   AS payer_id,\n",
    "    upper(trim(patient_id)) AS patient_id,\n",
    "    silver.fn_to_date_safe(as_of_date)  AS submission_date,\n",
    "    silver.fn_to_ts_safe(as_of_date)    AS submission_ts,\n",
    "    silver.fn_to_dec_safe(billed_amt)   AS total_charges,\n",
    "    silver.fn_to_dec_safe(expected_amt) AS expected_amount,\n",
    "    upper(trim(workqueue_status)) AS wq_status,\n",
    "    _ingest_ts, _ingest_file\n",
    "  FROM bronze.ehr_claims_raw\n",
    "  WHERE claim_id IS NOT NULL\n",
    "    AND silver.fn_to_dec_safe(billed_amt) IS NOT NULL\n",
    "    AND silver.fn_to_date_safe(as_of_date) IS NOT NULL\n",
    ")\n",
    "SELECT\n",
    "  claim_id, payer_id, patient_id,\n",
    "  submission_date, submission_ts,\n",
    "  total_charges, expected_amount,\n",
    "  CASE\n",
    "    WHEN wq_status IN ('SUBMITTED','RESUBMITTED') THEN 'Submitted'\n",
    "    WHEN wq_status IN ('IN WQ','PENDING REVIEW')  THEN 'Pending'\n",
    "    WHEN wq_status = 'DENIED'                     THEN 'Denied'\n",
    "    ELSE 'Pending'\n",
    "  END AS current_status,\n",
    "  submission_ts AS current_status_ts,\n",
    "  CAST(NULL AS TIMESTAMP) AS last_277ca_event_ts,\n",
    "  CAST(NULL AS TIMESTAMP) AS last_835_event_ts,\n",
    "  dayofweek(submission_date) AS weekday_submitted,\n",
    "  dayofweek(submission_date) IN (1,7) AS is_weekend_submission,\n",
    "  'EHR' AS source_system,\n",
    "  _ingest_ts, _ingest_file,\n",
    "  ROW_NUMBER() OVER (PARTITION BY claim_id ORDER BY submission_ts DESC, _ingest_ts DESC) AS rn\n",
    "FROM base\n",
    "QUALIFY rn = 1;"
   ]
  },
  {
   "cell_type": "code",
   "execution_count": 0,
   "metadata": {
    "application/vnd.databricks.v1+cell": {
     "cellMetadata": {
      "byteLimit": 2048000,
      "rowLimit": 10000
     },
     "inputWidgets": {},
     "nuid": "3a12874f-dc80-4146-aebf-e5a232413219",
     "showTitle": false,
     "tableResultSettingsMap": {},
     "title": ""
    }
   },
   "outputs": [],
   "source": [
    "-- ===== 3) TARGET TABLE AND SCD1 UPSERT =====\n",
    "\n",
    "CREATE TABLE IF NOT EXISTS silver.claim_headers (\n",
    "  claim_id STRING NOT NULL,\n",
    "  payer_id STRING,\n",
    "  patient_id STRING,\n",
    "  submission_date DATE,\n",
    "  submission_ts TIMESTAMP,\n",
    "  total_charges DECIMAL(18,2),\n",
    "  expected_amount DECIMAL(18,2),\n",
    "  current_status STRING,\n",
    "  current_status_ts TIMESTAMP,\n",
    "  last_277ca_event_ts TIMESTAMP,\n",
    "  last_835_event_ts TIMESTAMP,\n",
    "  weekday_submitted INT,\n",
    "  is_weekend_submission BOOLEAN,\n",
    "  source_system STRING,\n",
    "  _ingest_ts TIMESTAMP,\n",
    "  _ingest_file STRING\n",
    ")\n",
    "USING DELTA\n",
    "CLUSTER BY (claim_id);\n",
    "\n",
    "MERGE INTO silver.claim_headers t\n",
    "USING stage_claim_headers s\n",
    "  ON t.claim_id = s.claim_id\n",
    "WHEN MATCHED AND (\n",
    "      s.current_status_ts > t.current_status_ts\n",
    "   OR (s.current_status_ts = t.current_status_ts AND s._ingest_ts > t._ingest_ts)\n",
    ") THEN UPDATE SET *\n",
    "WHEN NOT MATCHED THEN INSERT *;"
   ]
  },
  {
   "cell_type": "code",
   "execution_count": 0,
   "metadata": {
    "application/vnd.databricks.v1+cell": {
     "cellMetadata": {
      "byteLimit": 2048000,
      "rowLimit": 10000
     },
     "inputWidgets": {},
     "nuid": "f41efb4e-39e6-4752-94c8-1e135ae023c0",
     "showTitle": false,
     "tableResultSettingsMap": {},
     "title": ""
    }
   },
   "outputs": [],
   "source": [
    "-- ===== 4) REJECTS TABLE: create and insert-only merge =====\n",
    "\n",
    "CREATE TABLE IF NOT EXISTS silver.ehr_claims_rejects (\n",
    "  reject_key     STRING NOT NULL,   \n",
    "  claim_id       STRING,\n",
    "  reject_reason  STRING NOT NULL,\n",
    "  _ingest_ts     TIMESTAMP,\n",
    "  _ingest_file   STRING,\n",
    "  _source_system STRING\n",
    ")\n",
    "USING DELTA\n",
    "TBLPROPERTIES (delta.appendOnly = 'true');\n",
    "\n",
    "MERGE INTO silver.ehr_claims_rejects AS t\n",
    "USING (\n",
    "  WITH typed AS (\n",
    "    SELECT r.*,\n",
    "           silver.fn_to_date_safe(as_of_date)  AS _d,\n",
    "           silver.fn_to_dec_safe(billed_amt)   AS _b,\n",
    "           silver.fn_to_dec_safe(expected_amt) AS _e\n",
    "    FROM bronze.ehr_claims_raw r\n",
    "  ),\n",
    "  failed AS (\n",
    "    SELECT *,\n",
    "      CASE\n",
    "        WHEN claim_id IS NULL THEN 'MISSING_CLAIM_ID'\n",
    "        WHEN _b IS NULL       THEN 'BAD_BILLED_AMT'\n",
    "        WHEN _e IS NULL       THEN 'BAD_EXPECTED_AMT'\n",
    "        WHEN _d IS NULL       THEN 'BAD_DATE'\n",
    "        ELSE 'OTHER'\n",
    "      END AS reject_reason\n",
    "    FROM typed\n",
    "    WHERE claim_id IS NULL OR _b IS NULL OR _e IS NULL OR _d IS NULL\n",
    "  )\n",
    "  SELECT\n",
    "    -- idempotent key\n",
    "    concat_ws('|',\n",
    "      COALESCE(upper(trim(claim_id)),'<NULL>'),\n",
    "      COALESCE(_ingest_file,''),\n",
    "      COALESCE(reject_reason,'')\n",
    "    ) AS reject_key,\n",
    "    UPPER(TRIM(claim_id)) AS claim_id,\n",
    "    reject_reason,\n",
    "    _ingest_ts,\n",
    "    _ingest_file,\n",
    "    _source_system\n",
    "  FROM failed\n",
    ") AS s\n",
    "ON  t.reject_key = s.reject_key\n",
    "WHEN NOT MATCHED THEN INSERT (\n",
    "  reject_key, claim_id, reject_reason, _ingest_ts, _ingest_file, _source_system\n",
    ") VALUES (\n",
    "  s.reject_key, s.claim_id, s.reject_reason, s._ingest_ts, s._ingest_file, s._source_system\n",
    ");"
   ]
  },
  {
   "cell_type": "code",
   "execution_count": 0,
   "metadata": {
    "application/vnd.databricks.v1+cell": {
     "cellMetadata": {
      "byteLimit": 2048000,
      "rowLimit": 10000
     },
     "inputWidgets": {},
     "nuid": "c61a79a4-55cc-4393-9947-c3b058f96a3a",
     "showTitle": false,
     "tableResultSettingsMap": {},
     "title": ""
    }
   },
   "outputs": [],
   "source": [
    "-- ===== 5) CLAIM LINES MERGE: one line per EHR row built from same filtered base as headers =====\n",
    "\n",
    "MERGE INTO silver.claim_lines t\n",
    "USING (\n",
    "  WITH base AS (\n",
    "    SELECT\n",
    "      upper(trim(r.claim_id))                           AS claim_id,\n",
    "      1                                                 AS line_number,\n",
    "      CAST(NULL AS STRING)                              AS rev_code,\n",
    "      upper(trim(cpt))                                  AS hcpcs_cpt,\n",
    "      CAST(array() AS ARRAY<STRING>)                    AS modifier_codes,\n",
    "      CAST(1 AS DECIMAL(18,2))                          AS units,\n",
    "      CAST(r._total_charges AS DECIMAL(18,2))           AS line_charge,\n",
    "      CAST(NULL AS STRING)                              AS rendering_npi,\n",
    "      CAST(array(1) AS ARRAY<INT>)                      AS dx_pointer,\n",
    "      (r._total_charges >= 5000)                        AS is_high_cost,\n",
    "      'EHR'                                             AS source_system,\n",
    "      r._ingest_ts                                      AS _ingest_ts,\n",
    "      r._ingest_file                                    AS _ingest_file\n",
    "    FROM stage_ehr_filtered r\n",
    "  )\n",
    "  SELECT * FROM base\n",
    ") s\n",
    "ON  t.claim_id = s.claim_id AND t.line_number = s.line_number\n",
    "WHEN MATCHED AND s._ingest_ts > t._ingest_ts THEN UPDATE SET\n",
    "  rev_code       = s.rev_code,\n",
    "  hcpcs_cpt      = s.hcpcs_cpt,\n",
    "  modifier_codes = s.modifier_codes,\n",
    "  units          = s.units,\n",
    "  line_charge    = s.line_charge,\n",
    "  rendering_npi  = s.rendering_npi,\n",
    "  dx_pointer     = s.dx_pointer,\n",
    "  is_high_cost   = s.is_high_cost,\n",
    "  source_system  = s.source_system,\n",
    "  _ingest_ts     = s._ingest_ts,\n",
    "  _ingest_file   = s._ingest_file\n",
    "WHEN NOT MATCHED THEN INSERT (\n",
    "  claim_id, line_number, rev_code, hcpcs_cpt, modifier_codes, units, line_charge,\n",
    "  rendering_npi, dx_pointer, is_high_cost, source_system, _ingest_ts, _ingest_file\n",
    ") VALUES (\n",
    "  s.claim_id, s.line_number, s.rev_code, s.hcpcs_cpt, s.modifier_codes, s.units, s.line_charge,\n",
    "  s.rendering_npi, s.dx_pointer, s.is_high_cost, s.source_system, s._ingest_ts, s._ingest_file\n",
    ");"
   ]
  }
 ],
 "metadata": {
  "application/vnd.databricks.v1+notebook": {
   "computePreferences": null,
   "dashboards": [],
   "environmentMetadata": {
    "base_environment": "",
    "environment_version": "3"
   },
   "inputWidgetPreferences": null,
   "language": "sql",
   "notebookMetadata": {
    "pythonIndentUnit": 4
   },
   "notebookName": "ehr_claims_silver",
   "widgets": {}
  },
  "language_info": {
   "name": "sql"
  }
 },
 "nbformat": 4,
 "nbformat_minor": 0
}
