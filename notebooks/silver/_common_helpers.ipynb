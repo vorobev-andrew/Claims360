{
 "cells": [
  {
   "cell_type": "code",
   "execution_count": 0,
   "metadata": {
    "application/vnd.databricks.v1+cell": {
     "cellMetadata": {},
     "inputWidgets": {},
     "nuid": "212412e0-ce56-4dea-b8e8-219652886a38",
     "showTitle": false,
     "tableResultSettingsMap": {},
     "title": ""
    }
   },
   "outputs": [],
   "source": [
    "USE CATALOG claims360_dev;\n",
    "\n",
    "-- Parse a date safely\n",
    "CREATE OR REPLACE FUNCTION claims360_dev.silver.fn_to_date_safe(s STRING)\n",
    "RETURNS DATE\n",
    "RETURN to_date(s);\n",
    "\n",
    "-- Parse a timestamp safely (try timestamp; else try date; else NULL)\n",
    "CREATE OR REPLACE FUNCTION claims360_dev.silver.fn_to_ts_safe(s STRING)\n",
    "RETURNS TIMESTAMP\n",
    "RETURN coalesce(to_timestamp(s), to_timestamp(to_date(s)));\n",
    "\n",
    "-- Parse a DECIMAL from strings like '1,234.56'; else NULL\n",
    "CREATE OR REPLACE FUNCTION claims360_dev.silver.fn_to_dec_safe(s STRING)\n",
    "RETURNS DECIMAL(18,2)\n",
    "RETURN CAST(NULLIF(regexp_replace(s, '[^0-9.-]', ''), '') AS DECIMAL(18,2));"
   ]
  }
 ],
 "metadata": {
  "application/vnd.databricks.v1+notebook": {
   "computePreferences": null,
   "dashboards": [],
   "environmentMetadata": {
    "base_environment": "",
    "environment_version": "3"
   },
   "inputWidgetPreferences": null,
   "language": "sql",
   "notebookMetadata": {
    "pythonIndentUnit": 4
   },
   "notebookName": "_common_helpers",
   "widgets": {}
  },
  "language_info": {
   "name": "sql"
  }
 },
 "nbformat": 4,
 "nbformat_minor": 0
}
