{
 "cells": [
  {
   "cell_type": "code",
   "execution_count": 0,
   "metadata": {
    "application/vnd.databricks.v1+cell": {
     "cellMetadata": {},
     "inputWidgets": {},
     "nuid": "7b960406-644a-42ef-925a-7160b6594169",
     "showTitle": false,
     "tableResultSettingsMap": {},
     "title": ""
    }
   },
   "outputs": [],
   "source": [
    "USE CATALOG claims360_dev;\n",
    "\n",
    "-- Alert: Overall FPY (latest mature month) < target\n",
    "WITH params AS (\n",
    "  SELECT 0.85 AS fpy_target\n",
    "),\n",
    "latest AS (\n",
    "  SELECT MAX(to_date(concat(submission_month, '-01'))) AS dt\n",
    "  FROM gold.v_first_pass_yield\n",
    "),\n",
    "agg AS (\n",
    "  SELECT\n",
    "    SUM(fpy_claims)       AS fpy_claims_mo,\n",
    "    SUM(submitted_claims) AS submitted_claims_mo\n",
    "  FROM gold.v_first_pass_yield v\n",
    "  JOIN latest l\n",
    "    ON to_date(concat(v.submission_month, '-01')) = l.dt\n",
    "),\n",
    "calc AS (\n",
    "  SELECT\n",
    "    date_format((SELECT dt FROM latest), 'yyyy-MM') AS submission_month,\n",
    "    CASE\n",
    "      WHEN submitted_claims_mo = 0 THEN 1.0\n",
    "      ELSE fpy_claims_mo / submitted_claims_mo\n",
    "    END AS fpy_rate,\n",
    "    (SELECT fpy_target FROM params) AS target\n",
    "  FROM agg\n",
    ")\n",
    "SELECT *\n",
    "FROM calc\n",
    "WHERE fpy_rate < target;"
   ]
  }
 ],
 "metadata": {
  "application/vnd.databricks.v1+notebook": {
   "computePreferences": null,
   "dashboards": [],
   "environmentMetadata": null,
   "inputWidgetPreferences": null,
   "language": "sql",
   "notebookMetadata": {
    "sqlQueryOptions": {
     "applyAutoLimit": true,
     "catalog": "claims360dbx",
     "schema": "default"
    }
   },
   "notebookName": "fpy_alert.dbquery.ipynb",
   "widgets": {}
  },
  "language_info": {
   "name": "sql"
  }
 },
 "nbformat": 4,
 "nbformat_minor": 0
}
