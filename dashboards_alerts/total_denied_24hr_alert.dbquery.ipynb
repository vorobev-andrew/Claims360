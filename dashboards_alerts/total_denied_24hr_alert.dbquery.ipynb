{
 "cells": [
  {
   "cell_type": "code",
   "execution_count": 0,
   "metadata": {
    "application/vnd.databricks.v1+cell": {
     "cellMetadata": {},
     "inputWidgets": {},
     "nuid": "40dd30f4-7323-4c4d-bfb2-eca694fb354e",
     "showTitle": false,
     "tableResultSettingsMap": {},
     "title": ""
    }
   },
   "outputs": [],
   "source": [
    "USE CATALOG claims360_dev;\n",
    "\n",
    "-- Alert: total denied claims in last 24h > threshold\n",
    "WITH params AS (\n",
    "  SELECT 25 AS threshold\n",
    "),\n",
    "claims_denied_last24 AS (\n",
    "  SELECT\n",
    "    payer_name,\n",
    "    COUNT(*) AS denied_claims_24h\n",
    "  FROM gold.fact_claim\n",
    "  WHERE has_denial_any = 1\n",
    "    AND GREATEST(\n",
    "          COALESCE(last_835_event_ts, TIMESTAMP '1900-01-01'),\n",
    "          COALESCE(last_277_event_ts, TIMESTAMP '1900-01-01')\n",
    "        ) >= CURRENT_TIMESTAMP() - INTERVAL 24 HOURS\n",
    "  GROUP BY payer_name\n",
    "),\n",
    "totals AS (\n",
    "  SELECT COALESCE(SUM(denied_claims_24h), 0) AS denied_claims_24h\n",
    "  FROM claims_denied_last24\n",
    ")\n",
    "SELECT denied_claims_24h,\n",
    "       (SELECT threshold FROM params) AS threshold\n",
    "FROM totals\n",
    "WHERE denied_claims_24h > (SELECT threshold FROM params);"
   ]
  }
 ],
 "metadata": {
  "application/vnd.databricks.v1+notebook": {
   "computePreferences": null,
   "dashboards": [],
   "environmentMetadata": null,
   "inputWidgetPreferences": null,
   "language": "sql",
   "notebookMetadata": {
    "sqlQueryOptions": {
     "applyAutoLimit": true,
     "catalog": "claims360dbx",
     "schema": "default"
    }
   },
   "notebookName": "total_denied_24hr_alert.dbquery.ipynb",
   "widgets": {}
  },
  "language_info": {
   "name": "sql"
  }
 },
 "nbformat": 4,
 "nbformat_minor": 0
}
