{
 "cells": [
  {
   "cell_type": "code",
   "execution_count": 0,
   "metadata": {
    "application/vnd.databricks.v1+cell": {
     "cellMetadata": {},
     "inputWidgets": {},
     "nuid": "7ff7627d-92db-49b7-b553-d6b6ee8b19ce",
     "showTitle": false,
     "tableResultSettingsMap": {},
     "title": ""
    }
   },
   "outputs": [
    {
     "output_type": "display_data",
     "data": {
      "text/plain": [
       "Databricks visualization. Run in Databricks to view."
      ]
     },
     "metadata": {
      "application/vnd.databricks.v1.subcommand+json": {
       "baseErrorDetails": null,
       "bindings": {},
       "collapsed": false,
       "command": "%sql WITH q AS (WITH first_pmt AS (\n  SELECT claim_id, MIN(posted_ts) AS first_payment_ts\n  FROM silver.payments_835_events\n  GROUP BY claim_id\n)\nSELECT\n  c.payer_name,\n  ABS(ROUND(AVG(datediff(DAY, c.submission_date, f.first_payment_ts)), 1)) AS avg_days_to_first_payment\nFROM gold.fact_claim c\nLEFT JOIN first_pmt f USING (claim_id)\nGROUP BY c.payer_name\nORDER BY avg_days_to_first_payment DESC) SELECT `payer_name`,SUM(`avg_days_to_first_payment`) `column_8cea095c215` FROM q GROUP BY `payer_name`",
       "commandTitle": "Average Days to First Payment",
       "commandType": "auto",
       "commandVersion": 0,
       "commentThread": [],
       "commentsVisible": false,
       "contentSha256Hex": null,
       "customPlotOptions": {
        "redashChart": [
         {
          "key": "type",
          "value": "CHART"
         },
         {
          "key": "options",
          "value": {
           "alignYAxesAtZero": true,
           "coefficient": 1,
           "columnConfigurationMap": {
            "x": {
             "column": "payer_name",
             "id": "column_8cea095c214"
            },
            "y": [
             {
              "column": "avg_days_to_first_payment",
              "id": "column_8cea095c215",
              "transform": "SUM"
             }
            ]
           },
           "dateTimeFormat": "DD/MM/YYYY HH:mm",
           "direction": {
            "type": "counterclockwise"
           },
           "error_y": {
            "type": "data",
            "visible": true
           },
           "globalSeriesType": "column",
           "isAggregationOn": true,
           "legend": {
            "traceorder": "normal"
           },
           "missingValuesAsZero": true,
           "numberFormat": "0,0.[00000]",
           "percentFormat": "0[.]00%",
           "series": {
            "error_y": {
             "type": "data",
             "visible": true
            },
            "stacking": null
           },
           "seriesOptions": {
            "column_8cea095c215": {
             "color": "#077A9D",
             "name": "avg_days_to_first_payment",
             "yAxis": 0
            }
           },
           "showDataLabels": false,
           "sizemode": "diameter",
           "sortX": true,
           "sortY": true,
           "swappedAxes": true,
           "textFormat": "",
           "useAggregationsUi": true,
           "valuesOptions": {},
           "version": 2,
           "xAxis": {
            "labels": {
             "enabled": true
            },
            "title": {
             "text": "Payer Name"
            },
            "type": "-"
           },
           "yAxis": [
            {
             "title": {
              "text": "Average Days to First Payment"
             },
             "type": "-"
            },
            {
             "opposite": true,
             "type": "-"
            }
           ]
          }
         }
        ]
       },
       "datasetPreviewNameToCmdIdMap": {},
       "diffDeletes": [],
       "diffInserts": [],
       "displayType": "redashChart",
       "error": null,
       "errorDetails": null,
       "errorSummary": null,
       "errorTraceType": null,
       "finishTime": 0,
       "globalVars": {},
       "guid": "",
       "height": "auto",
       "hideCommandCode": false,
       "hideCommandResult": false,
       "iPythonMetadata": null,
       "inputWidgets": {},
       "isLockedInExamMode": false,
       "latestAssumeRoleInfo": null,
       "latestUser": "a user",
       "latestUserId": null,
       "listResultMetadata": null,
       "metadata": {},
       "nuid": "566adbd1-f68c-4fdc-8eed-4c874e079cfe",
       "origId": 0,
       "parentHierarchy": [],
       "pivotAggregation": null,
       "pivotColumns": null,
       "position": 2.0,
       "resultDbfsErrorMessage": null,
       "resultDbfsStatus": "INLINED_IN_TREE",
       "results": null,
       "showCommandTitle": false,
       "startTime": 0,
       "state": "input",
       "streamStates": {},
       "subcommandOptions": {
        "queryPlan": {
         "groups": [
          {
           "column": "payer_name",
           "type": "column"
          }
         ],
         "selects": [
          {
           "column": "payer_name",
           "type": "column"
          },
          {
           "alias": "column_8cea095c215",
           "args": [
            {
             "column": "avg_days_to_first_payment",
             "type": "column"
            }
           ],
           "function": "SUM",
           "type": "function"
          }
         ]
        },
        "redashId": "9fe3ac4f-fef9-4b7b-9870-2df1d1236fb8",
        "redashLastUpdated": 1759408762000
       },
       "submitTime": 0,
       "subtype": "tableResultSubCmd.visualization",
       "tableResultIndex": 0,
       "tableResultSettingsMap": {},
       "useConsistentColors": false,
       "version": "CommandV1",
       "width": "auto",
       "workflows": null,
       "xColumns": null,
       "yColumns": null
      }
     },
     "output_type": "display_data"
    }
   ],
   "source": [
    "WITH first_pmt AS (\n",
    "  SELECT claim_id, MIN(posted_ts) AS first_payment_ts\n",
    "  FROM silver.payments_835_events\n",
    "  GROUP BY claim_id\n",
    ")\n",
    "SELECT\n",
    "  c.payer_name,\n",
    "  ABS(ROUND(AVG(datediff(DAY, c.submission_date, f.first_payment_ts)), 1)) AS avg_days_to_first_payment\n",
    "FROM gold.fact_claim c\n",
    "LEFT JOIN first_pmt f USING (claim_id)\n",
    "GROUP BY c.payer_name\n",
    "ORDER BY avg_days_to_first_payment DESC;\n"
   ]
  }
 ],
 "metadata": {
  "application/vnd.databricks.v1+notebook": {
   "computePreferences": null,
   "dashboards": [],
   "environmentMetadata": null,
   "inputWidgetPreferences": null,
   "language": "sql",
   "notebookMetadata": {
    "pythonIndentUnit": 4,
    "sqlQueryOptions": {
     "applyAutoLimit": true,
     "catalog": "claims360_dev",
     "schema": "default"
    }
   },
   "notebookName": "drilldown_time_to_first_pmt.dbquery.ipynb",
   "widgets": {}
  },
  "language_info": {
   "name": "sql"
  }
 },
 "nbformat": 4,
 "nbformat_minor": 0
}
