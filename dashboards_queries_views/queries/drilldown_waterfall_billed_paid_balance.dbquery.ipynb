{
 "cells": [
  {
   "cell_type": "code",
   "execution_count": 0,
   "metadata": {
    "application/vnd.databricks.v1+cell": {
     "cellMetadata": {},
     "inputWidgets": {},
     "nuid": "807e7dfc-525f-442c-9884-51877ba95222",
     "showTitle": false,
     "tableResultSettingsMap": {},
     "title": ""
    }
   },
   "outputs": [
    {
     "output_type": "display_data",
     "data": {
      "text/plain": [
       "Databricks visualization. Run in Databricks to view."
      ]
     },
     "metadata": {
      "application/vnd.databricks.v1.subcommand+json": {
       "baseErrorDetails": null,
       "bindings": {},
       "collapsed": false,
       "command": "%sql WITH q AS (SELECT\n  payer_name,\n  ROUND(SUM(billed_amount),2)    AS billed,\n  ROUND(SUM(net_paid_to_date),2) AS paid,\n  ROUND(SUM(current_balance),2)  AS balance\nFROM gold.fact_claim\nGROUP BY payer_name\nORDER BY billed DESC) SELECT `payer_name`,SUM(`billed`) `column_8cea095c227`,SUM(`paid`) `column_8cea095c231`,SUM(`balance`) `column_8cea095c234` FROM q GROUP BY `payer_name`",
       "commandTitle": "Waterfall Billed Paid Balance",
       "commandType": "auto",
       "commandVersion": 0,
       "commentThread": [],
       "commentsVisible": false,
       "contentSha256Hex": null,
       "customPlotOptions": {
        "redashChart": [
         {
          "key": "type",
          "value": "CHART"
         },
         {
          "key": "options",
          "value": {
           "alignYAxesAtZero": true,
           "coefficient": 1,
           "columnConfigurationMap": {
            "x": {
             "column": "payer_name",
             "id": "column_8cea095c229"
            },
            "y": [
             {
              "column": "billed",
              "id": "column_8cea095c227",
              "transform": "SUM"
             },
             {
              "column": "paid",
              "id": "column_8cea095c231",
              "transform": "SUM"
             },
             {
              "column": "balance",
              "id": "column_8cea095c234",
              "transform": "SUM"
             }
            ]
           },
           "dateTimeFormat": "DD/MM/YYYY HH:mm",
           "direction": {
            "type": "counterclockwise"
           },
           "error_y": {
            "type": "data",
            "visible": true
           },
           "globalSeriesType": "column",
           "isAggregationOn": true,
           "legend": {
            "traceorder": "normal"
           },
           "missingValuesAsZero": true,
           "numberFormat": "0,0.[00000]",
           "percentFormat": "0[.]00%",
           "series": {
            "error_y": {
             "type": "data",
             "visible": true
            },
            "stacking": ""
           },
           "seriesOptions": {
            "column_8cea095c227": {
             "color": "#919191",
             "name": "Sum of Billed",
             "type": "column",
             "yAxis": 0
            },
            "column_8cea095c231": {
             "color": "#00A972",
             "name": "Sum of Paid",
             "type": "column",
             "yAxis": 0
            },
            "column_8cea095c234": {
             "color": "#FFAB00",
             "name": "Sum of Outstanding Balance",
             "type": "column",
             "yAxis": 0
            }
           },
           "showDataLabels": false,
           "sizemode": "diameter",
           "sortX": true,
           "sortY": true,
           "swappedAxes": false,
           "textFormat": "",
           "useAggregationsUi": true,
           "valuesOptions": {},
           "version": 2,
           "xAxis": {
            "labels": {
             "enabled": true
            },
            "title": {
             "text": "Payer Name"
            },
            "type": "-"
           },
           "yAxis": [
            {
             "title": {
              "text": "Billed, Paid, Outstanding Balances"
             },
             "type": "-"
            },
            {
             "opposite": true,
             "type": "-"
            }
           ]
          }
         }
        ]
       },
       "datasetPreviewNameToCmdIdMap": {},
       "diffDeletes": [],
       "diffInserts": [],
       "displayType": "redashChart",
       "error": null,
       "errorDetails": null,
       "errorSummary": null,
       "errorTraceType": null,
       "finishTime": 0,
       "globalVars": {},
       "guid": "",
       "height": "auto",
       "hideCommandCode": false,
       "hideCommandResult": false,
       "iPythonMetadata": null,
       "inputWidgets": {},
       "isLockedInExamMode": false,
       "latestAssumeRoleInfo": null,
       "latestUser": "a user",
       "latestUserId": null,
       "listResultMetadata": null,
       "metadata": {},
       "nuid": "7d53dc08-b311-49a5-ae37-c160060df9ca",
       "origId": 0,
       "parentHierarchy": [],
       "pivotAggregation": null,
       "pivotColumns": null,
       "position": 2.0,
       "resultDbfsErrorMessage": null,
       "resultDbfsStatus": "INLINED_IN_TREE",
       "results": null,
       "showCommandTitle": false,
       "startTime": 0,
       "state": "input",
       "streamStates": {},
       "subcommandOptions": {
        "queryPlan": {
         "groups": [
          {
           "column": "payer_name",
           "type": "column"
          }
         ],
         "selects": [
          {
           "column": "payer_name",
           "type": "column"
          },
          {
           "alias": "column_8cea095c227",
           "args": [
            {
             "column": "billed",
             "type": "column"
            }
           ],
           "function": "SUM",
           "type": "function"
          },
          {
           "alias": "column_8cea095c231",
           "args": [
            {
             "column": "paid",
             "type": "column"
            }
           ],
           "function": "SUM",
           "type": "function"
          },
          {
           "alias": "column_8cea095c234",
           "args": [
            {
             "column": "balance",
             "type": "column"
            }
           ],
           "function": "SUM",
           "type": "function"
          }
         ]
        },
        "redashId": "71c2d141-40c9-4806-99ec-8d10942119a3",
        "redashLastUpdated": 1759408804000
       },
       "submitTime": 0,
       "subtype": "tableResultSubCmd.visualization",
       "tableResultIndex": 0,
       "tableResultSettingsMap": {},
       "useConsistentColors": false,
       "version": "CommandV1",
       "width": "auto",
       "workflows": null,
       "xColumns": null,
       "yColumns": null
      }
     },
     "output_type": "display_data"
    }
   ],
   "source": [
    "SELECT\n",
    "  payer_name,\n",
    "  ROUND(SUM(billed_amount),2)    AS billed,\n",
    "  ROUND(SUM(net_paid_to_date),2) AS paid,\n",
    "  ROUND(SUM(current_balance),2)  AS balance\n",
    "FROM gold.fact_claim\n",
    "GROUP BY payer_name\n",
    "ORDER BY billed DESC;"
   ]
  }
 ],
 "metadata": {
  "application/vnd.databricks.v1+notebook": {
   "computePreferences": null,
   "dashboards": [],
   "environmentMetadata": null,
   "inputWidgetPreferences": null,
   "language": "sql",
   "notebookMetadata": {
    "pythonIndentUnit": 4,
    "sqlQueryOptions": {
     "applyAutoLimit": true,
     "catalog": "claims360_dev",
     "schema": "default"
    }
   },
   "notebookName": "drilldown_waterfall_billed_paid_balance.dbquery.ipynb",
   "widgets": {}
  },
  "language_info": {
   "name": "sql"
  }
 },
 "nbformat": 4,
 "nbformat_minor": 0
}
