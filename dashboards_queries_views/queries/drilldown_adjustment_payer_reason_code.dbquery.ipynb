{
 "cells": [
  {
   "cell_type": "code",
   "execution_count": 0,
   "metadata": {
    "application/vnd.databricks.v1+cell": {
     "cellMetadata": {},
     "inputWidgets": {},
     "nuid": "dc074556-5a40-4569-a58f-761865113cf4",
     "showTitle": false,
     "tableResultSettingsMap": {},
     "title": ""
    }
   },
   "outputs": [
    {
     "output_type": "display_data",
     "data": {
      "text/plain": [
       "Databricks visualization. Run in Databricks to view."
      ]
     },
     "metadata": {
      "application/vnd.databricks.v1.subcommand+json": {
       "baseErrorDetails": null,
       "bindings": {},
       "collapsed": false,
       "command": "%sql WITH q AS (SELECT\n  payer_name,\n  reason_category,\n  ROUND(SUM(-1 * COALESCE(adjustment_amount,0)), 2) AS adjustment_impact_usd\nFROM gold.fact_denial_event\nGROUP BY payer_name, reason_category\nORDER BY adjustment_impact_usd DESC) SELECT `reason_category`,`payer_name`,SUM(`adjustment_impact_usd`) `column_8cea095c334` FROM q GROUP BY `payer_name`,`reason_category`",
       "commandTitle": "Drilldown Adjustments by Payer",
       "commandType": "auto",
       "commandVersion": 0,
       "commentThread": [],
       "commentsVisible": false,
       "contentSha256Hex": null,
       "customPlotOptions": {
        "redashChart": [
         {
          "key": "type",
          "value": "CHART"
         },
         {
          "key": "options",
          "value": {
           "alignYAxesAtZero": true,
           "coefficient": 1,
           "columnConfigurationMap": {
            "series": {
             "column": "payer_name",
             "id": "column_8cea095c337"
            },
            "x": {
             "column": "reason_category",
             "id": "column_8cea095c336"
            },
            "y": [
             {
              "column": "adjustment_impact_usd",
              "id": "column_8cea095c334",
              "transform": "SUM"
             }
            ]
           },
           "dateTimeFormat": "DD/MM/YYYY HH:mm",
           "direction": {
            "type": "counterclockwise"
           },
           "error_y": {
            "type": "data",
            "visible": true
           },
           "globalSeriesType": "column",
           "isAggregationOn": true,
           "legend": {
            "traceorder": "normal"
           },
           "missingValuesAsZero": true,
           "numberFormat": "0,0.[00000]",
           "percentFormat": "0[.]00%",
           "series": {
            "error_y": {
             "type": "data",
             "visible": true
            },
            "stacking": "stack"
           },
           "seriesOptions": {
            "Anthem BCBS": {
             "color": "#FFAB00"
            },
            "column_8cea095c334": {
             "name": "adjustment_impact_usd",
             "yAxis": 0
            }
           },
           "showDataLabels": false,
           "sizemode": "diameter",
           "sortX": true,
           "sortY": true,
           "swappedAxes": true,
           "textFormat": "",
           "useAggregationsUi": true,
           "valuesOptions": {},
           "version": 2,
           "xAxis": {
            "labels": {
             "enabled": true
            },
            "title": {
             "text": "Reason Category"
            },
            "type": "-"
           },
           "yAxis": [
            {
             "title": {
              "text": "Denial Adjustment $ Impact"
             },
             "type": "-"
            },
            {
             "opposite": true,
             "type": "-"
            }
           ]
          }
         }
        ]
       },
       "datasetPreviewNameToCmdIdMap": {},
       "diffDeletes": [],
       "diffInserts": [],
       "displayType": "redashChart",
       "error": null,
       "errorDetails": null,
       "errorSummary": null,
       "errorTraceType": null,
       "finishTime": 0,
       "globalVars": {},
       "guid": "",
       "height": "auto",
       "hideCommandCode": false,
       "hideCommandResult": false,
       "iPythonMetadata": null,
       "inputWidgets": {},
       "isLockedInExamMode": false,
       "latestAssumeRoleInfo": null,
       "latestUser": "a user",
       "latestUserId": null,
       "listResultMetadata": null,
       "metadata": {},
       "nuid": "c3277a1e-9c57-4a84-888f-0f410b260840",
       "origId": 0,
       "parentHierarchy": [],
       "pivotAggregation": null,
       "pivotColumns": null,
       "position": 2.0,
       "resultDbfsErrorMessage": null,
       "resultDbfsStatus": "INLINED_IN_TREE",
       "results": null,
       "showCommandTitle": false,
       "startTime": 0,
       "state": "input",
       "streamStates": {},
       "subcommandOptions": {
        "queryPlan": {
         "groups": [
          {
           "column": "reason_category",
           "type": "column"
          },
          {
           "column": "payer_name",
           "type": "column"
          }
         ],
         "selects": [
          {
           "column": "reason_category",
           "type": "column"
          },
          {
           "column": "payer_name",
           "type": "column"
          },
          {
           "alias": "column_8cea095c334",
           "args": [
            {
             "column": "adjustment_impact_usd",
             "type": "column"
            }
           ],
           "function": "SUM",
           "type": "function"
          }
         ]
        },
        "redashId": "9a100d2b-b6ce-4859-b65d-368376c108c2",
        "redashLastUpdated": 1759408708000
       },
       "submitTime": 0,
       "subtype": "tableResultSubCmd.visualization",
       "tableResultIndex": 0,
       "tableResultSettingsMap": {},
       "useConsistentColors": false,
       "version": "CommandV1",
       "width": "auto",
       "workflows": null,
       "xColumns": null,
       "yColumns": null
      }
     },
     "output_type": "display_data"
    }
   ],
   "source": [
    "SELECT\n",
    "  payer_name,\n",
    "  reason_category,\n",
    "  ROUND(SUM(-1 * COALESCE(adjustment_amount,0)), 2) AS adjustment_impact_usd\n",
    "FROM gold.fact_denial_event\n",
    "GROUP BY payer_name, reason_category\n",
    "ORDER BY adjustment_impact_usd DESC;"
   ]
  }
 ],
 "metadata": {
  "application/vnd.databricks.v1+notebook": {
   "computePreferences": null,
   "dashboards": [],
   "environmentMetadata": null,
   "inputWidgetPreferences": null,
   "language": "sql",
   "notebookMetadata": {
    "pythonIndentUnit": 4,
    "sqlQueryOptions": {
     "applyAutoLimit": true,
     "catalog": "claims360_dev",
     "schema": "default"
    }
   },
   "notebookName": "drilldown_adjustment_payer_reason_code.dbquery.ipynb",
   "widgets": {}
  },
  "language_info": {
   "name": "sql"
  }
 },
 "nbformat": 4,
 "nbformat_minor": 0
}
